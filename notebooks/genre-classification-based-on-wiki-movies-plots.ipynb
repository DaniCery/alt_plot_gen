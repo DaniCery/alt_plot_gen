{
 "cells": [
  {
   "cell_type": "markdown",
   "metadata": {
    "_uuid": "c19b5a43f3e5fa672c566cfb91f57bd5c7a43fe4"
   },
   "source": [
    "#### Movies genre classification\n",
    "\n",
    "The objective of this article is to develop a ML algorithm for the  classification of the multiple genres of a movie based on its plot.\n",
    "\n",
    "To do so, the kernel is organized in 4 main parts:\n",
    "\n",
    "* part 1: it describes the list libraries being used in this kernel.\n",
    "* part 2: it is about data cleansing and identification of the genres to be used for the classification of the movies. It this kernel, the genres that are used to classify ~96% of movies will be used building the classification algorithms.\n",
    "* part 3: the classification algorithms MultinomialNB (Multinomial Naive Bayes Classification) and the Linear Support Vector Classification (LinearSVC) will be used on movies data.\n",
    "* part 4:  conclusion\n"
   ]
  },
  {
   "cell_type": "markdown",
   "metadata": {
    "_uuid": "9af31c63d6e3144759907876724f2e1dd8908c48"
   },
   "source": [
    "## 1. Libraries to be used"
   ]
  },
  {
   "cell_type": "code",
   "execution_count": 3,
   "metadata": {
    "_uuid": "85b3e707bc9abd812f84e4163bb9dd93d5737632"
   },
   "outputs": [],
   "source": [
    "import pandas as pd\n",
    "import numpy as np\n",
    "import matplotlib.pyplot as plt\n",
    "%matplotlib inline\n",
    "import seaborn as sns\n",
    "import re\n",
    "\n",
    "import pickle \n",
    "#import mglearn\n",
    "import time\n",
    "\n",
    "\n",
    "from nltk.tokenize import TweetTokenizer # doesn't split at apostrophes\n",
    "import nltk\n",
    "from nltk import Text\n",
    "from nltk.tokenize import regexp_tokenize\n",
    "from nltk.tokenize import word_tokenize  \n",
    "from nltk.tokenize import sent_tokenize \n",
    "from nltk.corpus import stopwords\n",
    "from nltk.stem import WordNetLemmatizer\n",
    "from nltk.stem import PorterStemmer\n",
    "\n",
    "\n",
    "from sklearn.feature_extraction.text import CountVectorizer\n",
    "from sklearn.feature_extraction.text import TfidfVectorizer\n",
    "from sklearn.linear_model import LogisticRegression \n",
    "from sklearn.naive_bayes import MultinomialNB\n",
    "from sklearn.multiclass import OneVsRestClassifier\n",
    "\n",
    "\n",
    "from sklearn.model_selection import cross_val_score\n",
    "from sklearn.model_selection import train_test_split\n",
    "from sklearn import metrics\n",
    "from sklearn.metrics import classification_report\n",
    "from sklearn.metrics import confusion_matrix\n",
    "from sklearn.model_selection import GridSearchCV\n",
    "from sklearn.pipeline import make_pipeline\n",
    "\n",
    "from sklearn.metrics import accuracy_score\n",
    "from sklearn.svm import LinearSVC"
   ]
  },
  {
   "cell_type": "markdown",
   "metadata": {
    "_uuid": "6312214fd4d46c67615a173e9e150e2e6872882c"
   },
   "source": [
    "## 2. Movies genres cleansing"
   ]
  },
  {
   "cell_type": "code",
   "execution_count": 4,
   "metadata": {
    "_uuid": "6279cf46f5e9ecb3785672bbd189c85bae23c144"
   },
   "outputs": [
    {
     "name": "stdout",
     "output_type": "stream",
     "text": [
      "There are 34886 rows and 8 columns\n"
     ]
    }
   ],
   "source": [
    "# \n",
    "#nRowsRead = 1000 # specify 'None' if want to read whole file\n",
    "#movies = pd.read_csv('wiki_movie_plots_deduped.csv', delimiter=',', nrows = nRowsRead)\n",
    "movies = pd.read_csv('../raw_data/wiki_movie_plots_deduped.csv', delimiter=',')\n",
    "movies.dataframeName = 'wiki_movie_plots_deduped.csv'\n",
    "nRow, nCol = movies.shape\n",
    "print(f'There are {nRow} rows and {nCol} columns')"
   ]
  },
  {
   "cell_type": "code",
   "execution_count": 5,
   "metadata": {
    "_uuid": "965692668ef51b4af31aafe6510b7e6669e2af8c"
   },
   "outputs": [
    {
     "data": {
      "text/html": [
       "<div>\n",
       "<style scoped>\n",
       "    .dataframe tbody tr th:only-of-type {\n",
       "        vertical-align: middle;\n",
       "    }\n",
       "\n",
       "    .dataframe tbody tr th {\n",
       "        vertical-align: top;\n",
       "    }\n",
       "\n",
       "    .dataframe thead th {\n",
       "        text-align: right;\n",
       "    }\n",
       "</style>\n",
       "<table border=\"1\" class=\"dataframe\">\n",
       "  <thead>\n",
       "    <tr style=\"text-align: right;\">\n",
       "      <th></th>\n",
       "      <th>Release Year</th>\n",
       "      <th>Title</th>\n",
       "      <th>Origin/Ethnicity</th>\n",
       "      <th>Director</th>\n",
       "      <th>Cast</th>\n",
       "      <th>Genre</th>\n",
       "      <th>Wiki Page</th>\n",
       "      <th>Plot</th>\n",
       "    </tr>\n",
       "  </thead>\n",
       "  <tbody>\n",
       "    <tr>\n",
       "      <th>0</th>\n",
       "      <td>1901</td>\n",
       "      <td>Kansas Saloon Smashers</td>\n",
       "      <td>American</td>\n",
       "      <td>Unknown</td>\n",
       "      <td>NaN</td>\n",
       "      <td>unknown</td>\n",
       "      <td>https://en.wikipedia.org/wiki/Kansas_Saloon_Sm...</td>\n",
       "      <td>A bartender is working at a saloon, serving dr...</td>\n",
       "    </tr>\n",
       "    <tr>\n",
       "      <th>1</th>\n",
       "      <td>1901</td>\n",
       "      <td>Love by the Light of the Moon</td>\n",
       "      <td>American</td>\n",
       "      <td>Unknown</td>\n",
       "      <td>NaN</td>\n",
       "      <td>unknown</td>\n",
       "      <td>https://en.wikipedia.org/wiki/Love_by_the_Ligh...</td>\n",
       "      <td>The moon, painted with a smiling face hangs ov...</td>\n",
       "    </tr>\n",
       "    <tr>\n",
       "      <th>2</th>\n",
       "      <td>1901</td>\n",
       "      <td>The Martyred Presidents</td>\n",
       "      <td>American</td>\n",
       "      <td>Unknown</td>\n",
       "      <td>NaN</td>\n",
       "      <td>unknown</td>\n",
       "      <td>https://en.wikipedia.org/wiki/The_Martyred_Pre...</td>\n",
       "      <td>The film, just over a minute long, is composed...</td>\n",
       "    </tr>\n",
       "    <tr>\n",
       "      <th>3</th>\n",
       "      <td>1901</td>\n",
       "      <td>Terrible Teddy, the Grizzly King</td>\n",
       "      <td>American</td>\n",
       "      <td>Unknown</td>\n",
       "      <td>NaN</td>\n",
       "      <td>unknown</td>\n",
       "      <td>https://en.wikipedia.org/wiki/Terrible_Teddy,_...</td>\n",
       "      <td>Lasting just 61 seconds and consisting of two ...</td>\n",
       "    </tr>\n",
       "    <tr>\n",
       "      <th>4</th>\n",
       "      <td>1902</td>\n",
       "      <td>Jack and the Beanstalk</td>\n",
       "      <td>American</td>\n",
       "      <td>George S. Fleming, Edwin S. Porter</td>\n",
       "      <td>NaN</td>\n",
       "      <td>unknown</td>\n",
       "      <td>https://en.wikipedia.org/wiki/Jack_and_the_Bea...</td>\n",
       "      <td>The earliest known adaptation of the classic f...</td>\n",
       "    </tr>\n",
       "  </tbody>\n",
       "</table>\n",
       "</div>"
      ],
      "text/plain": [
       "   Release Year                             Title Origin/Ethnicity  \\\n",
       "0          1901            Kansas Saloon Smashers         American   \n",
       "1          1901     Love by the Light of the Moon         American   \n",
       "2          1901           The Martyred Presidents         American   \n",
       "3          1901  Terrible Teddy, the Grizzly King         American   \n",
       "4          1902            Jack and the Beanstalk         American   \n",
       "\n",
       "                             Director Cast    Genre  \\\n",
       "0                             Unknown  NaN  unknown   \n",
       "1                             Unknown  NaN  unknown   \n",
       "2                             Unknown  NaN  unknown   \n",
       "3                             Unknown  NaN  unknown   \n",
       "4  George S. Fleming, Edwin S. Porter  NaN  unknown   \n",
       "\n",
       "                                           Wiki Page  \\\n",
       "0  https://en.wikipedia.org/wiki/Kansas_Saloon_Sm...   \n",
       "1  https://en.wikipedia.org/wiki/Love_by_the_Ligh...   \n",
       "2  https://en.wikipedia.org/wiki/The_Martyred_Pre...   \n",
       "3  https://en.wikipedia.org/wiki/Terrible_Teddy,_...   \n",
       "4  https://en.wikipedia.org/wiki/Jack_and_the_Bea...   \n",
       "\n",
       "                                                Plot  \n",
       "0  A bartender is working at a saloon, serving dr...  \n",
       "1  The moon, painted with a smiling face hangs ov...  \n",
       "2  The film, just over a minute long, is composed...  \n",
       "3  Lasting just 61 seconds and consisting of two ...  \n",
       "4  The earliest known adaptation of the classic f...  "
      ]
     },
     "execution_count": 5,
     "metadata": {},
     "output_type": "execute_result"
    }
   ],
   "source": [
    "movies.head()"
   ]
  },
  {
   "cell_type": "code",
   "execution_count": 6,
   "metadata": {
    "_uuid": "e53d25d502b62fdecb438255ba02348a487b36cc"
   },
   "outputs": [
    {
     "data": {
      "text/plain": [
       "2265"
      ]
     },
     "execution_count": 6,
     "metadata": {},
     "output_type": "execute_result"
    }
   ],
   "source": [
    "# creation of the column count for aggregation\n",
    "movies['Count']=1\n",
    "movies[['Genre','Count']].groupby(['Genre'], as_index=False).count().shape[0]"
   ]
  },
  {
   "cell_type": "markdown",
   "metadata": {
    "_uuid": "cc53c05da8ca56918f7f85f3445f699388791045"
   },
   "source": [
    "There are 2265 different genres movies.\n",
    "\n",
    "It is not possible to build an ML algorithm having a good accuracy to estimate the genre of movies for the following reasons:\n",
    "\n",
    "* the number of classes is very high\n",
    "* many classes have very few observation."
   ]
  },
  {
   "cell_type": "markdown",
   "metadata": {
    "_uuid": "d5849ade7625f4190fbac99489e51b06b2c23df7"
   },
   "source": [
    "### 2.1. Cleansing"
   ]
  },
  {
   "cell_type": "code",
   "execution_count": 7,
   "metadata": {
    "_uuid": "ab47b212ebe42d423586b4f472d04898532d9117"
   },
   "outputs": [
    {
     "name": "stderr",
     "output_type": "stream",
     "text": [
      "/tmp/ipykernel_5307/2833306847.py:16: FutureWarning: The default value of regex will change from True to False in a future version.\n",
      "  movies['GenreCorrected']=movies['GenreCorrected'].str.replace(' \\(film genre\\)', '')\n",
      "/tmp/ipykernel_5307/2833306847.py:21: FutureWarning: The default value of regex will change from True to False in a future version.\n",
      "  movies['GenreCorrected']=movies['GenreCorrected'].str.replace('\\[not in citation given\\]','')\n",
      "/tmp/ipykernel_5307/2833306847.py:30: FutureWarning: The default value of regex will change from True to False in a future version. In addition, single character regular expressions will *not* be treated as literal strings when regex=True.\n",
      "  movies['GenreCorrected']=movies['GenreCorrected'].str.replace('.','')\n",
      "/tmp/ipykernel_5307/2833306847.py:35: FutureWarning: The default value of regex will change from True to False in a future version.\n",
      "  movies['GenreCorrected']=movies['GenreCorrected'].str.replace(' (30min)','')\n",
      "/tmp/ipykernel_5307/2833306847.py:37: FutureWarning: The default value of regex will change from True to False in a future version.\n",
      "  movies['GenreCorrected']=movies['GenreCorrected'].str.replace('\\[140\\]','drama')\n",
      "/tmp/ipykernel_5307/2833306847.py:38: FutureWarning: The default value of regex will change from True to False in a future version.\n",
      "  movies['GenreCorrected']=movies['GenreCorrected'].str.replace('\\[144\\]','')\n",
      "/tmp/ipykernel_5307/2833306847.py:46: FutureWarning: The default value of regex will change from True to False in a future version.\n",
      "  movies['GenreCorrected']=movies['GenreCorrected'].str.replace('biography about montreal canadiens star|maurice richard','biography')\n",
      "/tmp/ipykernel_5307/2833306847.py:47: FutureWarning: The default value of regex will change from True to False in a future version.\n",
      "  movies['GenreCorrected']=movies['GenreCorrected'].str.replace('bholenath movies|cinekorn entertainment','')\n",
      "/tmp/ipykernel_5307/2833306847.py:48: FutureWarning: The default value of regex will change from True to False in a future version.\n",
      "  movies['GenreCorrected']=movies['GenreCorrected'].str.replace(' \\(volleyball\\)','')\n",
      "/tmp/ipykernel_5307/2833306847.py:63: FutureWarning: The default value of regex will change from True to False in a future version.\n",
      "  movies['GenreCorrected']=movies['GenreCorrected'].str.replace('movies by the mob\\|knkspl','')\n",
      "/tmp/ipykernel_5307/2833306847.py:69: FutureWarning: The default value of regex will change from True to False in a future version.\n",
      "  movies['GenreCorrected']=movies['GenreCorrected'].str.replace('(( based).+)','')\n",
      "/tmp/ipykernel_5307/2833306847.py:70: FutureWarning: The default value of regex will change from True to False in a future version.\n",
      "  movies['GenreCorrected']=movies['GenreCorrected'].str.replace('(( co-produced).+)','')\n",
      "/tmp/ipykernel_5307/2833306847.py:71: FutureWarning: The default value of regex will change from True to False in a future version.\n",
      "  movies['GenreCorrected']=movies['GenreCorrected'].str.replace('(( adapted).+)','')\n",
      "/tmp/ipykernel_5307/2833306847.py:72: FutureWarning: The default value of regex will change from True to False in a future version.\n",
      "  movies['GenreCorrected']=movies['GenreCorrected'].str.replace('(( about).+)','')\n",
      "/tmp/ipykernel_5307/2833306847.py:77: FutureWarning: The default value of regex will change from True to False in a future version.\n",
      "  movies['GenreCorrected']=movies['GenreCorrected'].str.replace(' \\(aquatics|swimming\\)','')\n",
      "/tmp/ipykernel_5307/2833306847.py:78: FutureWarning: The default value of regex will change from True to False in a future version.\n",
      "  movies['GenreCorrected']=movies['GenreCorrected'].str.replace(' \\(aquatics|swimming\\)','')\n",
      "/tmp/ipykernel_5307/2833306847.py:79: FutureWarning: The default value of regex will change from True to False in a future version.\n",
      "  movies['GenreCorrected']=movies['GenreCorrected'].str.replace(\"yogesh dattatraya gosavi's directorial debut \\[9\\]\",'')\n",
      "/tmp/ipykernel_5307/2833306847.py:88: FutureWarning: The default value of regex will change from True to False in a future version.\n",
      "  movies['GenreCorrected']=movies['GenreCorrected'].str.replace('\\|007','')\n",
      "/tmp/ipykernel_5307/2833306847.py:93: FutureWarning: The default value of regex will change from True to False in a future version.\n",
      "  movies['GenreCorrected']=movies['GenreCorrected'].str.replace(' \\(shogi|chess\\)','')\n",
      "/tmp/ipykernel_5307/2833306847.py:95: FutureWarning: The default value of regex will change from True to False in a future version.\n",
      "  movies['GenreCorrected']=movies['GenreCorrected'].str.replace('\\|6 separate stories','')\n",
      "/tmp/ipykernel_5307/2833306847.py:96: FutureWarning: The default value of regex will change from True to False in a future version.\n",
      "  movies['GenreCorrected']=movies['GenreCorrected'].str.replace(' \\(30min\\)','')\n",
      "/tmp/ipykernel_5307/2833306847.py:97: FutureWarning: The default value of regex will change from True to False in a future version.\n",
      "  movies['GenreCorrected']=movies['GenreCorrected'].str.replace(' (road bicycle racing)','')\n",
      "/tmp/ipykernel_5307/2833306847.py:100: FutureWarning: The default value of regex will change from True to False in a future version.\n",
      "  movies['GenreCorrected']=movies['GenreCorrected'].str.replace('\\|docudrama','\\|documentary|drama')\n",
      "/tmp/ipykernel_5307/2833306847.py:102: FutureWarning: The default value of regex will change from True to False in a future version.\n",
      "  movies['GenreCorrected']=movies['GenreCorrected'].str.replace('((adaptation).+)','')\n",
      "/tmp/ipykernel_5307/2833306847.py:103: FutureWarning: The default value of regex will change from True to False in a future version.\n",
      "  movies['GenreCorrected']=movies['GenreCorrected'].str.replace('((adaptated).+)','')\n",
      "/tmp/ipykernel_5307/2833306847.py:104: FutureWarning: The default value of regex will change from True to False in a future version.\n",
      "  movies['GenreCorrected']=movies['GenreCorrected'].str.replace('((adapted).+)','')\n",
      "/tmp/ipykernel_5307/2833306847.py:105: FutureWarning: The default value of regex will change from True to False in a future version.\n",
      "  movies['GenreCorrected']=movies['GenreCorrected'].str.replace('(( on ).+)','')\n",
      "/tmp/ipykernel_5307/2833306847.py:107: FutureWarning: The default value of regex will change from True to False in a future version.\n",
      "  movies['GenreCorrected']=movies['GenreCorrected'].str.replace('dev\\|nusrat jahan','sports')\n",
      "/tmp/ipykernel_5307/2833306847.py:109: FutureWarning: The default value of regex will change from True to False in a future version.\n",
      "  movies['GenreCorrected']=movies['GenreCorrected'].str.replace(' \\(artistic\\)','')\n",
      "/tmp/ipykernel_5307/2833306847.py:110: FutureWarning: The default value of regex will change from True to False in a future version.\n",
      "  movies['GenreCorrected']=movies['GenreCorrected'].str.replace(' \\|direct-to-dvd','')\n",
      "/tmp/ipykernel_5307/2833306847.py:114: FutureWarning: The default value of regex will change from True to False in a future version.\n",
      "  movies['GenreCorrected']=movies['GenreCorrected'].str.replace('\\|1 girl\\|3 suitors','')\n",
      "/tmp/ipykernel_5307/2833306847.py:115: FutureWarning: The default value of regex will change from True to False in a future version.\n",
      "  movies['GenreCorrected']=movies['GenreCorrected'].str.replace(' \\(road bicycle racing\\)','')\n",
      "/tmp/ipykernel_5307/2833306847.py:136: FutureWarning: The default value of regex will change from True to False in a future version.\n",
      "  movies['GenreCorrected']=movies['GenreCorrected'].str.replace('fantasychildren\\|','fantasy|children')\n",
      "/tmp/ipykernel_5307/2833306847.py:149: FutureWarning: The default value of regex will change from True to False in a future version.\n",
      "  movies['GenreCorrected']=movies['GenreCorrected'].str.replace('\\|\\|','|')\n",
      "/tmp/ipykernel_5307/2833306847.py:157: FutureWarning: The default value of regex will change from True to False in a future version.\n",
      "  movies['GenreCorrected']=movies['GenreCorrected'].str.replace('\\|\\(children\\|poker\\|karuta\\)','')\n",
      "/tmp/ipykernel_5307/2833306847.py:163: FutureWarning: The default value of regex will change from True to False in a future version.\n",
      "  movies['GenreCorrected']=movies['GenreCorrected'].str.replace('((\\|produced\\|).+)','')\n",
      "/tmp/ipykernel_5307/2833306847.py:168: FutureWarning: The default value of regex will change from True to False in a future version.\n",
      "  movies['GenreCorrected']=movies['GenreCorrected'].str.replace('colour\\|yellow\\|productions\\|eros\\|international','')\n",
      "/tmp/ipykernel_5307/2833306847.py:169: FutureWarning: The default value of regex will change from True to False in a future version.\n",
      "  movies['GenreCorrected']=movies['GenreCorrected'].str.replace('\\|directtodvd','')\n"
     ]
    },
    {
     "name": "stderr",
     "output_type": "stream",
     "text": [
      "/tmp/ipykernel_5307/2833306847.py:188: FutureWarning: The default value of regex will change from True to False in a future version.\n",
      "  movies['GenreCorrected']=movies['GenreCorrected'].str.replace('famil\\|','family')\n",
      "/tmp/ipykernel_5307/2833306847.py:206: FutureWarning: The default value of regex will change from True to False in a future version.\n",
      "  movies['GenreCorrected']=movies['GenreCorrected'].str.replace('\\|\\(fiction\\)','|fiction')\n",
      "/tmp/ipykernel_5307/2833306847.py:213: FutureWarning: The default value of regex will change from True to False in a future version.\n",
      "  movies['GenreCorrected']=movies['GenreCorrected'].str.replace('rom\\|com','romance|comedy')\n",
      "/tmp/ipykernel_5307/2833306847.py:260: FutureWarning: The default value of regex will change from True to False in a future version.\n",
      "  movies['GenreCorrected']=movies['GenreCorrected'].str.replace('\\|–\\|','|')\n"
     ]
    }
   ],
   "source": [
    "# harmonization\n",
    "movies['GenreCorrected'] =movies['Genre'] \n",
    "movies['GenreCorrected']=movies['GenreCorrected'].str.strip()\n",
    "movies['GenreCorrected']=movies['GenreCorrected'].str.replace(' - ', '|')\n",
    "movies['GenreCorrected']=movies['GenreCorrected'].str.replace(' / ', '|')\n",
    "movies['GenreCorrected']=movies['GenreCorrected'].str.replace('/', '|')\n",
    "movies['GenreCorrected']=movies['GenreCorrected'].str.replace(' & ', '|')\n",
    "movies['GenreCorrected']=movies['GenreCorrected'].str.replace(', ', '|')\n",
    "movies['GenreCorrected']=movies['GenreCorrected'].str.replace('; ', '|')\n",
    "movies['GenreCorrected']=movies['GenreCorrected'].str.replace('bio-pic', 'biography')\n",
    "movies['GenreCorrected']=movies['GenreCorrected'].str.replace('biopic', 'biography')\n",
    "movies['GenreCorrected']=movies['GenreCorrected'].str.replace('biographical', 'biography')\n",
    "movies['GenreCorrected']=movies['GenreCorrected'].str.replace('biodrama', 'biography')\n",
    "movies['GenreCorrected']=movies['GenreCorrected'].str.replace('bio-drama', 'biography')\n",
    "movies['GenreCorrected']=movies['GenreCorrected'].str.replace('biographic', 'biography')\n",
    "movies['GenreCorrected']=movies['GenreCorrected'].str.replace(' \\(film genre\\)', '')\n",
    "movies['GenreCorrected']=movies['GenreCorrected'].str.replace('animated','animation')\n",
    "movies['GenreCorrected']=movies['GenreCorrected'].str.replace('anime','animation')\n",
    "movies['GenreCorrected']=movies['GenreCorrected'].str.replace('children\\'s','children')\n",
    "movies['GenreCorrected']=movies['GenreCorrected'].str.replace('comedey','comedy')\n",
    "movies['GenreCorrected']=movies['GenreCorrected'].str.replace('\\[not in citation given\\]','')\n",
    "movies['GenreCorrected']=movies['GenreCorrected'].str.replace(' set 4,000 years ago in the canadian arctic','')\n",
    "movies['GenreCorrected']=movies['GenreCorrected'].str.replace('historical','history')\n",
    "movies['GenreCorrected']=movies['GenreCorrected'].str.replace('romantic','romance')\n",
    "movies['GenreCorrected']=movies['GenreCorrected'].str.replace('3-d','animation')\n",
    "movies['GenreCorrected']=movies['GenreCorrected'].str.replace('3d','animation')\n",
    "movies['GenreCorrected']=movies['GenreCorrected'].str.replace('viacom 18 motion pictures','')\n",
    "movies['GenreCorrected']=movies['GenreCorrected'].str.replace('sci-fi','science_fiction')\n",
    "movies['GenreCorrected']=movies['GenreCorrected'].str.replace('ttriller','thriller')\n",
    "movies['GenreCorrected']=movies['GenreCorrected'].str.replace('.','')\n",
    "movies['GenreCorrected']=movies['GenreCorrected'].str.replace('based on radio serial','')\n",
    "movies['GenreCorrected']=movies['GenreCorrected'].str.replace(' on the early years of hitler','')\n",
    "movies['GenreCorrected']=movies['GenreCorrected'].str.replace('sci fi','science_fiction')\n",
    "movies['GenreCorrected']=movies['GenreCorrected'].str.replace('science fiction','science_fiction')\n",
    "movies['GenreCorrected']=movies['GenreCorrected'].str.replace(' (30min)','')\n",
    "movies['GenreCorrected']=movies['GenreCorrected'].str.replace('16 mm film','short')\n",
    "movies['GenreCorrected']=movies['GenreCorrected'].str.replace('\\[140\\]','drama')\n",
    "movies['GenreCorrected']=movies['GenreCorrected'].str.replace('\\[144\\]','')\n",
    "movies['GenreCorrected']=movies['GenreCorrected'].str.replace(' for ','')\n",
    "movies['GenreCorrected']=movies['GenreCorrected'].str.replace('adventures','adventure')\n",
    "movies['GenreCorrected']=movies['GenreCorrected'].str.replace('kung fu','martial_arts')\n",
    "movies['GenreCorrected']=movies['GenreCorrected'].str.replace('kung-fu','martial_arts')\n",
    "movies['GenreCorrected']=movies['GenreCorrected'].str.replace('martial arts','martial_arts')\n",
    "movies['GenreCorrected']=movies['GenreCorrected'].str.replace('world war ii','war')\n",
    "movies['GenreCorrected']=movies['GenreCorrected'].str.replace('world war i','war')\n",
    "movies['GenreCorrected']=movies['GenreCorrected'].str.replace('biography about montreal canadiens star|maurice richard','biography')\n",
    "movies['GenreCorrected']=movies['GenreCorrected'].str.replace('bholenath movies|cinekorn entertainment','')\n",
    "movies['GenreCorrected']=movies['GenreCorrected'].str.replace(' \\(volleyball\\)','')\n",
    "movies['GenreCorrected']=movies['GenreCorrected'].str.replace('spy film','spy')\n",
    "movies['GenreCorrected']=movies['GenreCorrected'].str.replace('anthology film','anthology')\n",
    "movies['GenreCorrected']=movies['GenreCorrected'].str.replace('biography fim','biography')\n",
    "movies['GenreCorrected']=movies['GenreCorrected'].str.replace('avant-garde','avant_garde')\n",
    "movies['GenreCorrected']=movies['GenreCorrected'].str.replace('biker film','biker')\n",
    "movies['GenreCorrected']=movies['GenreCorrected'].str.replace('buddy cop','buddy')\n",
    "movies['GenreCorrected']=movies['GenreCorrected'].str.replace('buddy film','buddy')\n",
    "movies['GenreCorrected']=movies['GenreCorrected'].str.replace('comedy 2-reeler','comedy')\n",
    "movies['GenreCorrected']=movies['GenreCorrected'].str.replace('films','')\n",
    "movies['GenreCorrected']=movies['GenreCorrected'].str.replace('film','')\n",
    "movies['GenreCorrected']=movies['GenreCorrected'].str.replace('biography of pioneering american photographer eadweard muybridge','biography')\n",
    "movies['GenreCorrected']=movies['GenreCorrected'].str.replace('british-german co-production','')\n",
    "movies['GenreCorrected']=movies['GenreCorrected'].str.replace('bruceploitation','martial_arts')\n",
    "movies['GenreCorrected']=movies['GenreCorrected'].str.replace('comedy-drama adaptation of the mordecai richler novel','comedy-drama')\n",
    "movies['GenreCorrected']=movies['GenreCorrected'].str.replace('movies by the mob\\|knkspl','')\n",
    "movies['GenreCorrected']=movies['GenreCorrected'].str.replace('movies','')\n",
    "movies['GenreCorrected']=movies['GenreCorrected'].str.replace('movie','')\n",
    "movies['GenreCorrected']=movies['GenreCorrected'].str.replace('coming of age','coming_of_age')\n",
    "movies['GenreCorrected']=movies['GenreCorrected'].str.replace('coming-of-age','coming_of_age')\n",
    "movies['GenreCorrected']=movies['GenreCorrected'].str.replace('drama about child soldiers','drama')\n",
    "movies['GenreCorrected']=movies['GenreCorrected'].str.replace('(( based).+)','')\n",
    "movies['GenreCorrected']=movies['GenreCorrected'].str.replace('(( co-produced).+)','')\n",
    "movies['GenreCorrected']=movies['GenreCorrected'].str.replace('(( adapted).+)','')\n",
    "movies['GenreCorrected']=movies['GenreCorrected'].str.replace('(( about).+)','')\n",
    "movies['GenreCorrected']=movies['GenreCorrected'].str.replace('musical b','musical')\n",
    "movies['GenreCorrected']=movies['GenreCorrected'].str.replace('animationchildren','animation|children')\n",
    "movies['GenreCorrected']=movies['GenreCorrected'].str.replace(' period','period')\n",
    "movies['GenreCorrected']=movies['GenreCorrected'].str.replace('drama loosely','drama')\n",
    "movies['GenreCorrected']=movies['GenreCorrected'].str.replace(' \\(aquatics|swimming\\)','')\n",
    "movies['GenreCorrected']=movies['GenreCorrected'].str.replace(' \\(aquatics|swimming\\)','')\n",
    "movies['GenreCorrected']=movies['GenreCorrected'].str.replace(\"yogesh dattatraya gosavi's directorial debut \\[9\\]\",'')\n",
    "movies['GenreCorrected']=movies['GenreCorrected'].str.replace(\"war-time\",\"war\")\n",
    "movies['GenreCorrected']=movies['GenreCorrected'].str.replace(\"wartime\",\"war\")\n",
    "movies['GenreCorrected']=movies['GenreCorrected'].str.replace(\"ww1\",\"war\")\n",
    "movies['GenreCorrected']=movies['GenreCorrected'].str.replace('unknown','')\n",
    "movies['GenreCorrected']=movies['GenreCorrected'].str.replace(\"wwii\",\"war\")\n",
    "movies['GenreCorrected']=movies['GenreCorrected'].str.replace('psychological','psycho')\n",
    "movies['GenreCorrected']=movies['GenreCorrected'].str.replace('rom-coms','romance')\n",
    "movies['GenreCorrected']=movies['GenreCorrected'].str.replace('true crime','crime')\n",
    "movies['GenreCorrected']=movies['GenreCorrected'].str.replace('\\|007','')\n",
    "movies['GenreCorrected']=movies['GenreCorrected'].str.replace('slice of life','slice_of_life')\n",
    "movies['GenreCorrected']=movies['GenreCorrected'].str.replace('computer animation','animation')\n",
    "movies['GenreCorrected']=movies['GenreCorrected'].str.replace('gun fu','martial_arts')\n",
    "movies['GenreCorrected']=movies['GenreCorrected'].str.replace('j-horror','horror')\n",
    "movies['GenreCorrected']=movies['GenreCorrected'].str.replace(' \\(shogi|chess\\)','')\n",
    "movies['GenreCorrected']=movies['GenreCorrected'].str.replace('afghan war drama','war drama')\n",
    "movies['GenreCorrected']=movies['GenreCorrected'].str.replace('\\|6 separate stories','')\n",
    "movies['GenreCorrected']=movies['GenreCorrected'].str.replace(' \\(30min\\)','')\n",
    "movies['GenreCorrected']=movies['GenreCorrected'].str.replace(' (road bicycle racing)','')\n",
    "movies['GenreCorrected']=movies['GenreCorrected'].str.replace(' v-cinema','')\n",
    "movies['GenreCorrected']=movies['GenreCorrected'].str.replace('tv miniseries','tv_miniseries')\n",
    "movies['GenreCorrected']=movies['GenreCorrected'].str.replace('\\|docudrama','\\|documentary|drama')\n",
    "movies['GenreCorrected']=movies['GenreCorrected'].str.replace(' in animation','|animation')\n",
    "movies['GenreCorrected']=movies['GenreCorrected'].str.replace('((adaptation).+)','')\n",
    "movies['GenreCorrected']=movies['GenreCorrected'].str.replace('((adaptated).+)','')\n",
    "movies['GenreCorrected']=movies['GenreCorrected'].str.replace('((adapted).+)','')\n",
    "movies['GenreCorrected']=movies['GenreCorrected'].str.replace('(( on ).+)','')\n",
    "movies['GenreCorrected']=movies['GenreCorrected'].str.replace('american football','sports')\n",
    "movies['GenreCorrected']=movies['GenreCorrected'].str.replace('dev\\|nusrat jahan','sports')\n",
    "movies['GenreCorrected']=movies['GenreCorrected'].str.replace('television miniseries','tv_miniseries')\n",
    "movies['GenreCorrected']=movies['GenreCorrected'].str.replace(' \\(artistic\\)','')\n",
    "movies['GenreCorrected']=movies['GenreCorrected'].str.replace(' \\|direct-to-dvd','')\n",
    "movies['GenreCorrected']=movies['GenreCorrected'].str.replace('history dram','history drama')\n",
    "movies['GenreCorrected']=movies['GenreCorrected'].str.replace('martial art','martial_arts')\n",
    "movies['GenreCorrected']=movies['GenreCorrected'].str.replace('psycho thriller,','psycho thriller')\n",
    "movies['GenreCorrected']=movies['GenreCorrected'].str.replace('\\|1 girl\\|3 suitors','')\n",
    "movies['GenreCorrected']=movies['GenreCorrected'].str.replace(' \\(road bicycle racing\\)','')\n",
    "filterE = movies['GenreCorrected']==\"ero\"\n",
    "movies.loc[filterE,'GenreCorrected']=\"adult\"\n",
    "filterE = movies['GenreCorrected']==\"music\"\n",
    "movies.loc[filterE,'GenreCorrected']=\"musical\"\n",
    "filterE = movies['GenreCorrected']==\"-\"\n",
    "movies.loc[filterE,'GenreCorrected']=''\n",
    "filterE = movies['GenreCorrected']==\"comedy–drama\"\n",
    "movies.loc[filterE,'GenreCorrected'] = \"comedy|drama\"\n",
    "filterE = movies['GenreCorrected']==\"comedy–horror\"\n",
    "movies.loc[filterE,'GenreCorrected'] = \"comedy|horror\"\n",
    "movies['GenreCorrected']=movies['GenreCorrected'].str.replace(' ','|')\n",
    "movies['GenreCorrected']=movies['GenreCorrected'].str.replace(',','|')\n",
    "movies['GenreCorrected']=movies['GenreCorrected'].str.replace('-','')\n",
    "movies['GenreCorrected']=movies['GenreCorrected'].str.replace('actionadventure','action|adventure')\n",
    "movies['GenreCorrected']=movies['GenreCorrected'].str.replace('actioncomedy','action|comedy')\n",
    "movies['GenreCorrected']=movies['GenreCorrected'].str.replace('actiondrama','action|drama')\n",
    "movies['GenreCorrected']=movies['GenreCorrected'].str.replace('actionlove','action|love')\n",
    "movies['GenreCorrected']=movies['GenreCorrected'].str.replace('actionmasala','action|masala')\n",
    "movies['GenreCorrected']=movies['GenreCorrected'].str.replace('actionchildren','action|children')\n",
    "\n",
    "movies['GenreCorrected']=movies['GenreCorrected'].str.replace('fantasychildren\\|','fantasy|children')\n",
    "movies['GenreCorrected']=movies['GenreCorrected'].str.replace('fantasycomedy','fantasy|comedy')\n",
    "movies['GenreCorrected']=movies['GenreCorrected'].str.replace('fantasyperiod','fantasy|period')\n",
    "movies['GenreCorrected']=movies['GenreCorrected'].str.replace('cbctv_miniseries','tv_miniseries')\n",
    "movies['GenreCorrected']=movies['GenreCorrected'].str.replace('dramacomedy','drama|comedy')\n",
    "movies['GenreCorrected']=movies['GenreCorrected'].str.replace('dramacomedysocial','drama|comedy|social')\n",
    "movies['GenreCorrected']=movies['GenreCorrected'].str.replace('dramathriller','drama|thriller')\n",
    "movies['GenreCorrected']=movies['GenreCorrected'].str.replace('comedydrama','comedy|drama')\n",
    "movies['GenreCorrected']=movies['GenreCorrected'].str.replace('dramathriller','drama|thriller')\n",
    "movies['GenreCorrected']=movies['GenreCorrected'].str.replace('comedyhorror','comedy|horror')\n",
    "movies['GenreCorrected']=movies['GenreCorrected'].str.replace('sciencefiction','science_fiction')\n",
    "movies['GenreCorrected']=movies['GenreCorrected'].str.replace('adventurecomedy','adventure|comedy')\n",
    "movies['GenreCorrected']=movies['GenreCorrected'].str.replace('animationdrama','animation|drama')\n",
    "movies['GenreCorrected']=movies['GenreCorrected'].str.replace('\\|\\|','|')\n",
    "movies['GenreCorrected']=movies['GenreCorrected'].str.replace('muslim','religious')\n",
    "movies['GenreCorrected']=movies['GenreCorrected'].str.replace('thriler','thriller')\n",
    "movies['GenreCorrected']=movies['GenreCorrected'].str.replace('crimethriller','crime|thriller')\n",
    "movies['GenreCorrected']=movies['GenreCorrected'].str.replace('fantay','fantasy')\n",
    "movies['GenreCorrected']=movies['GenreCorrected'].str.replace('actionthriller','action|thriller')\n",
    "movies['GenreCorrected']=movies['GenreCorrected'].str.replace('comedysocial','comedy|social')\n",
    "movies['GenreCorrected']=movies['GenreCorrected'].str.replace('martialarts','martial_arts')\n",
    "movies['GenreCorrected']=movies['GenreCorrected'].str.replace('\\|\\(children\\|poker\\|karuta\\)','')\n",
    "movies['GenreCorrected']=movies['GenreCorrected'].str.replace('epichistory','epic|history')\n",
    "\n",
    "movies['GenreCorrected']=movies['GenreCorrected'].str.replace('erotica','adult')\n",
    "movies['GenreCorrected']=movies['GenreCorrected'].str.replace('erotic','adult')\n",
    "\n",
    "movies['GenreCorrected']=movies['GenreCorrected'].str.replace('((\\|produced\\|).+)','')\n",
    "movies['GenreCorrected']=movies['GenreCorrected'].str.replace('chanbara','chambara')\n",
    "movies['GenreCorrected']=movies['GenreCorrected'].str.replace('comedythriller','comedy|thriller')\n",
    "movies['GenreCorrected']=movies['GenreCorrected'].str.replace('biblical','religious')\n",
    "movies['GenreCorrected']=movies['GenreCorrected'].str.replace('biblical','religious')\n",
    "movies['GenreCorrected']=movies['GenreCorrected'].str.replace('colour\\|yellow\\|productions\\|eros\\|international','')\n",
    "movies['GenreCorrected']=movies['GenreCorrected'].str.replace('\\|directtodvd','')\n",
    "movies['GenreCorrected']=movies['GenreCorrected'].str.replace('liveaction','live|action')\n",
    "movies['GenreCorrected']=movies['GenreCorrected'].str.replace('melodrama','drama')\n",
    "movies['GenreCorrected']=movies['GenreCorrected'].str.replace('superheroes','superheroe')\n",
    "movies['GenreCorrected']=movies['GenreCorrected'].str.replace('gangsterthriller','gangster|thriller')\n",
    "\n",
    "movies['GenreCorrected']=movies['GenreCorrected'].str.replace('heistcomedy','comedy')\n",
    "movies['GenreCorrected']=movies['GenreCorrected'].str.replace('heist','action')\n",
    "movies['GenreCorrected']=movies['GenreCorrected'].str.replace('historic','history')\n",
    "movies['GenreCorrected']=movies['GenreCorrected'].str.replace('historydisaster','history|disaster')\n",
    "movies['GenreCorrected']=movies['GenreCorrected'].str.replace('warcomedy','war|comedy')\n",
    "movies['GenreCorrected']=movies['GenreCorrected'].str.replace('westerncomedy','western|comedy')\n",
    "movies['GenreCorrected']=movies['GenreCorrected'].str.replace('ancientcostume','costume')\n",
    "movies['GenreCorrected']=movies['GenreCorrected'].str.replace('computeranimation','animation')\n",
    "movies['GenreCorrected']=movies['GenreCorrected'].str.replace('dramatic','drama')\n",
    "movies['GenreCorrected']=movies['GenreCorrected'].str.replace('familya','family')\n",
    "movies['GenreCorrected']=movies['GenreCorrected'].str.replace('familya','family')\n",
    "movies['GenreCorrected']=movies['GenreCorrected'].str.replace('dramedy','drama|comedy')\n",
    "movies['GenreCorrected']=movies['GenreCorrected'].str.replace('dramaa','drama')\n",
    "movies['GenreCorrected']=movies['GenreCorrected'].str.replace('famil\\|','family')\n",
    "\n",
    "movies['GenreCorrected']=movies['GenreCorrected'].str.replace('superheroe','superhero')\n",
    "movies['GenreCorrected']=movies['GenreCorrected'].str.replace('biogtaphy','biography')\n",
    "movies['GenreCorrected']=movies['GenreCorrected'].str.replace('devotionalbiography','devotional|biography')\n",
    "movies['GenreCorrected']=movies['GenreCorrected'].str.replace('docufiction','documentary|fiction')\n",
    "\n",
    "movies['GenreCorrected']=movies['GenreCorrected'].str.replace('familydrama','family|drama')\n",
    "\n",
    "movies['GenreCorrected']=movies['GenreCorrected'].str.replace('espionage','spy')\n",
    "movies['GenreCorrected']=movies['GenreCorrected'].str.replace('supeheroes','superhero')\n",
    "movies['GenreCorrected']=movies['GenreCorrected'].str.replace('romancefiction','romance|fiction')\n",
    "movies['GenreCorrected']=movies['GenreCorrected'].str.replace('horrorthriller','horror|thriller')\n",
    "\n",
    "movies['GenreCorrected']=movies['GenreCorrected'].str.replace('suspensethriller','suspense|thriller')\n",
    "movies['GenreCorrected']=movies['GenreCorrected'].str.replace('musicaliography','musical|biography')\n",
    "movies['GenreCorrected']=movies['GenreCorrected'].str.replace('triller','thriller')\n",
    "\n",
    "movies['GenreCorrected']=movies['GenreCorrected'].str.replace('\\|\\(fiction\\)','|fiction')\n",
    "\n",
    "movies['GenreCorrected']=movies['GenreCorrected'].str.replace('romanceaction','romance|action')\n",
    "movies['GenreCorrected']=movies['GenreCorrected'].str.replace('romancecomedy','romance|comedy')\n",
    "movies['GenreCorrected']=movies['GenreCorrected'].str.replace('romancehorror','romance|horror')\n",
    "\n",
    "movies['GenreCorrected']=movies['GenreCorrected'].str.replace('romcom','romance|comedy')\n",
    "movies['GenreCorrected']=movies['GenreCorrected'].str.replace('rom\\|com','romance|comedy')\n",
    "movies['GenreCorrected']=movies['GenreCorrected'].str.replace('satirical','satire')\n",
    "\n",
    "movies['GenreCorrected']=movies['GenreCorrected'].str.replace('science_fictionchildren','science_fiction|children')\n",
    "movies['GenreCorrected']=movies['GenreCorrected'].str.replace('homosexual','adult')\n",
    "movies['GenreCorrected']=movies['GenreCorrected'].str.replace('sexual','adult')\n",
    "\n",
    "movies['GenreCorrected']=movies['GenreCorrected'].str.replace('mockumentary','documentary')\n",
    "movies['GenreCorrected']=movies['GenreCorrected'].str.replace('periodic','period')\n",
    "movies['GenreCorrected']=movies['GenreCorrected'].str.replace('romanctic','romantic')\n",
    "movies['GenreCorrected']=movies['GenreCorrected'].str.replace('politics','political')\n",
    "movies['GenreCorrected']=movies['GenreCorrected'].str.replace('samurai','martial_arts')\n",
    "movies['GenreCorrected']=movies['GenreCorrected'].str.replace('tv_miniseries','series')\n",
    "movies['GenreCorrected']=movies['GenreCorrected'].str.replace('serial','series')\n",
    "\n",
    "filterE = movies['GenreCorrected']==\"musical–comedy\"\n",
    "movies.loc[filterE,'GenreCorrected'] = \"musical|comedy\"\n",
    "\n",
    "filterE = movies['GenreCorrected']==\"roman|porno\"\n",
    "movies.loc[filterE,'GenreCorrected'] = \"adult\"\n",
    "\n",
    "\n",
    "filterE = movies['GenreCorrected']==\"action—masala\"\n",
    "movies.loc[filterE,'GenreCorrected'] = \"action|masala\"\n",
    "\n",
    "\n",
    "filterE = movies['GenreCorrected']==\"horror–thriller\"\n",
    "movies.loc[filterE,'GenreCorrected'] = \"horror|thriller\"\n",
    "\n",
    "movies['GenreCorrected']=movies['GenreCorrected'].str.replace('family','children')\n",
    "movies['GenreCorrected']=movies['GenreCorrected'].str.replace('martial_arts','action')\n",
    "movies['GenreCorrected']=movies['GenreCorrected'].str.replace('horror','thriller')\n",
    "movies['GenreCorrected']=movies['GenreCorrected'].str.replace('war','action')\n",
    "movies['GenreCorrected']=movies['GenreCorrected'].str.replace('adventure','action')\n",
    "movies['GenreCorrected']=movies['GenreCorrected'].str.replace('science_fiction','action')\n",
    "movies['GenreCorrected']=movies['GenreCorrected'].str.replace('western','action')\n",
    "movies['GenreCorrected']=movies['GenreCorrected'].str.replace('western','action')\n",
    "movies['GenreCorrected']=movies['GenreCorrected'].str.replace('noir','black')\n",
    "movies['GenreCorrected']=movies['GenreCorrected'].str.replace('spy','action')\n",
    "movies['GenreCorrected']=movies['GenreCorrected'].str.replace('superhero','action')\n",
    "movies['GenreCorrected']=movies['GenreCorrected'].str.replace('social','')\n",
    "movies['GenreCorrected']=movies['GenreCorrected'].str.replace('suspense','action')\n",
    "\n",
    "\n",
    "filterE = movies['GenreCorrected']==\"drama|romance|adult|children\"\n",
    "movies.loc[filterE,'GenreCorrected'] = \"drama|romance|adult\"\n",
    "\n",
    "movies['GenreCorrected']=movies['GenreCorrected'].str.replace('\\|–\\|','|')\n",
    "movies['GenreCorrected']=movies['GenreCorrected'].str.strip(to_strip='\\|')\n",
    "movies['GenreCorrected']=movies['GenreCorrected'].str.replace('actionner','action')\n",
    "movies['GenreCorrected']=movies['GenreCorrected'].str.strip()\n"
   ]
  },
  {
   "cell_type": "code",
   "execution_count": 8,
   "metadata": {
    "_uuid": "4ad1fb03b855aa2f0f59d1432373f21d17a45f20"
   },
   "outputs": [],
   "source": [
    "moviesGenre = movies[['GenreCorrected','Count']].groupby(['GenreCorrected']).count()\n",
    "moviesGenre.to_csv('GenreCorrected.csv',sep=',')"
   ]
  },
  {
   "cell_type": "code",
   "execution_count": 9,
   "metadata": {
    "_uuid": "db6fec4b0e31f6b8d55b233baae85ee97f62673a"
   },
   "outputs": [
    {
     "data": {
      "text/plain": [
       "1198"
      ]
     },
     "execution_count": 9,
     "metadata": {},
     "output_type": "execute_result"
    }
   ],
   "source": [
    "movies[['GenreCorrected','Count']].groupby(['GenreCorrected'], as_index=False).count().shape[0]"
   ]
  },
  {
   "cell_type": "markdown",
   "metadata": {
    "_uuid": "bd3e03922711409eaaa3932f261ce794aebac9e0"
   },
   "source": [
    "After harmonization, the number of movies genres decreased 2265 from 1198\n",
    "\n",
    "**Overview of the genre after cleansing**"
   ]
  },
  {
   "cell_type": "code",
   "execution_count": 10,
   "metadata": {
    "_uuid": "c35383c148f0c83922fccfe7d258bb366f63e6e2"
   },
   "outputs": [
    {
     "data": {
      "text/html": [
       "<div>\n",
       "<style scoped>\n",
       "    .dataframe tbody tr th:only-of-type {\n",
       "        vertical-align: middle;\n",
       "    }\n",
       "\n",
       "    .dataframe tbody tr th {\n",
       "        vertical-align: top;\n",
       "    }\n",
       "\n",
       "    .dataframe thead th {\n",
       "        text-align: right;\n",
       "    }\n",
       "</style>\n",
       "<table border=\"1\" class=\"dataframe\">\n",
       "  <thead>\n",
       "    <tr style=\"text-align: right;\">\n",
       "      <th></th>\n",
       "      <th>GenreCorrected</th>\n",
       "      <th>Count</th>\n",
       "    </tr>\n",
       "  </thead>\n",
       "  <tbody>\n",
       "    <tr>\n",
       "      <th>0</th>\n",
       "      <td></td>\n",
       "      <td>6206</td>\n",
       "    </tr>\n",
       "    <tr>\n",
       "      <th>515</th>\n",
       "      <td>drama</td>\n",
       "      <td>6107</td>\n",
       "    </tr>\n",
       "    <tr>\n",
       "      <th>358</th>\n",
       "      <td>comedy</td>\n",
       "      <td>4411</td>\n",
       "    </tr>\n",
       "    <tr>\n",
       "      <th>1</th>\n",
       "      <td>action</td>\n",
       "      <td>3790</td>\n",
       "    </tr>\n",
       "    <tr>\n",
       "      <th>1110</th>\n",
       "      <td>thriller</td>\n",
       "      <td>2163</td>\n",
       "    </tr>\n",
       "    <tr>\n",
       "      <th>963</th>\n",
       "      <td>romance</td>\n",
       "      <td>954</td>\n",
       "    </tr>\n",
       "    <tr>\n",
       "      <th>202</th>\n",
       "      <td>animation</td>\n",
       "      <td>601</td>\n",
       "    </tr>\n",
       "    <tr>\n",
       "      <th>972</th>\n",
       "      <td>romance|comedy</td>\n",
       "      <td>577</td>\n",
       "    </tr>\n",
       "    <tr>\n",
       "      <th>446</th>\n",
       "      <td>crime</td>\n",
       "      <td>573</td>\n",
       "    </tr>\n",
       "    <tr>\n",
       "      <th>386</th>\n",
       "      <td>comedy|drama</td>\n",
       "      <td>560</td>\n",
       "    </tr>\n",
       "  </tbody>\n",
       "</table>\n",
       "</div>"
      ],
      "text/plain": [
       "      GenreCorrected  Count\n",
       "0                      6206\n",
       "515            drama   6107\n",
       "358           comedy   4411\n",
       "1             action   3790\n",
       "1110        thriller   2163\n",
       "963          romance    954\n",
       "202        animation    601\n",
       "972   romance|comedy    577\n",
       "446            crime    573\n",
       "386     comedy|drama    560"
      ]
     },
     "execution_count": 10,
     "metadata": {},
     "output_type": "execute_result"
    }
   ],
   "source": [
    "movies[['GenreCorrected','Count']].groupby(['GenreCorrected'],as_index=False).count().sort_values(['Count'], ascending=False).head(10)"
   ]
  },
  {
   "cell_type": "code",
   "execution_count": 11,
   "metadata": {
    "_uuid": "02733b4bc3be383d02750e1e0d337462fa817adc"
   },
   "outputs": [],
   "source": [
    "movies['GenreSplit']=movies['GenreCorrected'].str.split('|')\n",
    "movies['GenreSplit']= movies['GenreSplit'].apply(np.sort).apply(np.unique)"
   ]
  },
  {
   "cell_type": "code",
   "execution_count": 12,
   "metadata": {
    "_uuid": "965864605b6be1bd3b7128e9b5c557bf773496bd"
   },
   "outputs": [
    {
     "data": {
      "text/plain": [
       "array(['action', 'crime', 'short'], dtype='<U6')"
      ]
     },
     "execution_count": 12,
     "metadata": {},
     "output_type": "execute_result"
    }
   ],
   "source": [
    "movies['GenreSplit'][11]"
   ]
  },
  {
   "cell_type": "markdown",
   "metadata": {
    "_uuid": "ec71853a9bc05a5b7038efa8722f2c8f771e81a2"
   },
   "source": [
    "**Number of movies for each genres**"
   ]
  },
  {
   "cell_type": "code",
   "execution_count": 13,
   "metadata": {
    "_uuid": "bbb76d8f692cfab790ef799a3a3a3d5c3d152465"
   },
   "outputs": [
    {
     "data": {
      "text/plain": [
       "array(['', '', '', ..., 'comedy', 'comedy', 'romance'], dtype='<U32')"
      ]
     },
     "execution_count": 13,
     "metadata": {},
     "output_type": "execute_result"
    }
   ],
   "source": [
    "genres_array = np.array([])\n",
    "\n",
    "for i in range(0,movies.shape[0]-1):\n",
    "    genres_array = np.concatenate((genres_array, movies['GenreSplit'][i] ))\n",
    "    \n",
    "genres_array"
   ]
  },
  {
   "cell_type": "code",
   "execution_count": 14,
   "metadata": {
    "_uuid": "98b101786c0feac430e3944a986e918da9f10a5e"
   },
   "outputs": [],
   "source": [
    "genres = pd.DataFrame({'Genre':genres_array})"
   ]
  },
  {
   "cell_type": "code",
   "execution_count": 15,
   "metadata": {
    "_uuid": "676546703d7473c315f023438bfb10d8da70b7db"
   },
   "outputs": [
    {
     "data": {
      "text/html": [
       "<div>\n",
       "<style scoped>\n",
       "    .dataframe tbody tr th:only-of-type {\n",
       "        vertical-align: middle;\n",
       "    }\n",
       "\n",
       "    .dataframe tbody tr th {\n",
       "        vertical-align: top;\n",
       "    }\n",
       "\n",
       "    .dataframe thead th {\n",
       "        text-align: right;\n",
       "    }\n",
       "</style>\n",
       "<table border=\"1\" class=\"dataframe\">\n",
       "  <thead>\n",
       "    <tr style=\"text-align: right;\">\n",
       "      <th></th>\n",
       "      <th>Genre</th>\n",
       "    </tr>\n",
       "  </thead>\n",
       "  <tbody>\n",
       "    <tr>\n",
       "      <th>0</th>\n",
       "      <td></td>\n",
       "    </tr>\n",
       "    <tr>\n",
       "      <th>1</th>\n",
       "      <td></td>\n",
       "    </tr>\n",
       "    <tr>\n",
       "      <th>2</th>\n",
       "      <td></td>\n",
       "    </tr>\n",
       "    <tr>\n",
       "      <th>3</th>\n",
       "      <td></td>\n",
       "    </tr>\n",
       "    <tr>\n",
       "      <th>4</th>\n",
       "      <td></td>\n",
       "    </tr>\n",
       "    <tr>\n",
       "      <th>5</th>\n",
       "      <td></td>\n",
       "    </tr>\n",
       "    <tr>\n",
       "      <th>6</th>\n",
       "      <td>action</td>\n",
       "    </tr>\n",
       "    <tr>\n",
       "      <th>7</th>\n",
       "      <td>comedy</td>\n",
       "    </tr>\n",
       "    <tr>\n",
       "      <th>8</th>\n",
       "      <td></td>\n",
       "    </tr>\n",
       "    <tr>\n",
       "      <th>9</th>\n",
       "      <td></td>\n",
       "    </tr>\n",
       "  </tbody>\n",
       "</table>\n",
       "</div>"
      ],
      "text/plain": [
       "    Genre\n",
       "0        \n",
       "1        \n",
       "2        \n",
       "3        \n",
       "4        \n",
       "5        \n",
       "6  action\n",
       "7  comedy\n",
       "8        \n",
       "9        "
      ]
     },
     "execution_count": 15,
     "metadata": {},
     "output_type": "execute_result"
    }
   ],
   "source": [
    "genres.head(10)"
   ]
  },
  {
   "cell_type": "code",
   "execution_count": 16,
   "metadata": {
    "_uuid": "f5deffa1a3dbe2bacd8669af0722c9afc3d80f23"
   },
   "outputs": [
    {
     "data": {
      "text/html": [
       "<div>\n",
       "<style scoped>\n",
       "    .dataframe tbody tr th:only-of-type {\n",
       "        vertical-align: middle;\n",
       "    }\n",
       "\n",
       "    .dataframe tbody tr th {\n",
       "        vertical-align: top;\n",
       "    }\n",
       "\n",
       "    .dataframe thead th {\n",
       "        text-align: right;\n",
       "    }\n",
       "</style>\n",
       "<table border=\"1\" class=\"dataframe\">\n",
       "  <thead>\n",
       "    <tr style=\"text-align: right;\">\n",
       "      <th></th>\n",
       "      <th>Genre</th>\n",
       "      <th>Count</th>\n",
       "    </tr>\n",
       "  </thead>\n",
       "  <tbody>\n",
       "    <tr>\n",
       "      <th>115</th>\n",
       "      <td>drama</td>\n",
       "      <td>9487</td>\n",
       "    </tr>\n",
       "    <tr>\n",
       "      <th>84</th>\n",
       "      <td>comedy</td>\n",
       "      <td>7320</td>\n",
       "    </tr>\n",
       "    <tr>\n",
       "      <th>0</th>\n",
       "      <td></td>\n",
       "      <td>6222</td>\n",
       "    </tr>\n",
       "    <tr>\n",
       "      <th>3</th>\n",
       "      <td>action</td>\n",
       "      <td>5952</td>\n",
       "    </tr>\n",
       "    <tr>\n",
       "      <th>425</th>\n",
       "      <td>thriller</td>\n",
       "      <td>3291</td>\n",
       "    </tr>\n",
       "    <tr>\n",
       "      <th>336</th>\n",
       "      <td>romance</td>\n",
       "      <td>2639</td>\n",
       "    </tr>\n",
       "    <tr>\n",
       "      <th>93</th>\n",
       "      <td>crime</td>\n",
       "      <td>1607</td>\n",
       "    </tr>\n",
       "    <tr>\n",
       "      <th>243</th>\n",
       "      <td>musical</td>\n",
       "      <td>951</td>\n",
       "    </tr>\n",
       "    <tr>\n",
       "      <th>15</th>\n",
       "      <td>animation</td>\n",
       "      <td>914</td>\n",
       "    </tr>\n",
       "    <tr>\n",
       "      <th>72</th>\n",
       "      <td>children</td>\n",
       "      <td>684</td>\n",
       "    </tr>\n",
       "  </tbody>\n",
       "</table>\n",
       "</div>"
      ],
      "text/plain": [
       "         Genre  Count\n",
       "115      drama   9487\n",
       "84      comedy   7320\n",
       "0                6222\n",
       "3       action   5952\n",
       "425   thriller   3291\n",
       "336    romance   2639\n",
       "93       crime   1607\n",
       "243    musical    951\n",
       "15   animation    914\n",
       "72    children    684"
      ]
     },
     "execution_count": 16,
     "metadata": {},
     "output_type": "execute_result"
    }
   ],
   "source": [
    "# histogram for the genres is most welcome\n",
    "genres['Count']=1\n",
    "genres[['Genre','Count']].groupby(['Genre'], as_index=False).sum().sort_values(['Count'], ascending=False).head(10)"
   ]
  },
  {
   "cell_type": "markdown",
   "metadata": {
    "_uuid": "3306dc02c1e6f66fa48797fc406eee51ffe66eb3"
   },
   "source": [
    "### 2.2. Identification of the genres to be selected"
   ]
  },
  {
   "cell_type": "code",
   "execution_count": 17,
   "metadata": {
    "_uuid": "c102fb6ae736dc4fe78d7c0be6a42bb8ffdf6348"
   },
   "outputs": [],
   "source": [
    "genres=genres[['Genre','Count']].groupby(['Genre'], as_index=False).sum().sort_values(['Count'], ascending=False)"
   ]
  },
  {
   "cell_type": "code",
   "execution_count": 18,
   "metadata": {
    "_uuid": "1d385fb45e8095cc366ff69cf77974bfbb63417b"
   },
   "outputs": [
    {
     "data": {
      "text/html": [
       "<div>\n",
       "<style scoped>\n",
       "    .dataframe tbody tr th:only-of-type {\n",
       "        vertical-align: middle;\n",
       "    }\n",
       "\n",
       "    .dataframe tbody tr th {\n",
       "        vertical-align: top;\n",
       "    }\n",
       "\n",
       "    .dataframe thead th {\n",
       "        text-align: right;\n",
       "    }\n",
       "</style>\n",
       "<table border=\"1\" class=\"dataframe\">\n",
       "  <thead>\n",
       "    <tr style=\"text-align: right;\">\n",
       "      <th></th>\n",
       "      <th>Genre</th>\n",
       "      <th>Count</th>\n",
       "    </tr>\n",
       "  </thead>\n",
       "  <tbody>\n",
       "    <tr>\n",
       "      <th>115</th>\n",
       "      <td>drama</td>\n",
       "      <td>9487</td>\n",
       "    </tr>\n",
       "    <tr>\n",
       "      <th>84</th>\n",
       "      <td>comedy</td>\n",
       "      <td>7320</td>\n",
       "    </tr>\n",
       "    <tr>\n",
       "      <th>3</th>\n",
       "      <td>action</td>\n",
       "      <td>5952</td>\n",
       "    </tr>\n",
       "    <tr>\n",
       "      <th>425</th>\n",
       "      <td>thriller</td>\n",
       "      <td>3291</td>\n",
       "    </tr>\n",
       "    <tr>\n",
       "      <th>336</th>\n",
       "      <td>romance</td>\n",
       "      <td>2639</td>\n",
       "    </tr>\n",
       "    <tr>\n",
       "      <th>93</th>\n",
       "      <td>crime</td>\n",
       "      <td>1607</td>\n",
       "    </tr>\n",
       "    <tr>\n",
       "      <th>243</th>\n",
       "      <td>musical</td>\n",
       "      <td>951</td>\n",
       "    </tr>\n",
       "    <tr>\n",
       "      <th>15</th>\n",
       "      <td>animation</td>\n",
       "      <td>914</td>\n",
       "    </tr>\n",
       "    <tr>\n",
       "      <th>72</th>\n",
       "      <td>children</td>\n",
       "      <td>684</td>\n",
       "    </tr>\n",
       "    <tr>\n",
       "      <th>130</th>\n",
       "      <td>fantasy</td>\n",
       "      <td>542</td>\n",
       "    </tr>\n",
       "    <tr>\n",
       "      <th>244</th>\n",
       "      <td>mystery</td>\n",
       "      <td>481</td>\n",
       "    </tr>\n",
       "    <tr>\n",
       "      <th>45</th>\n",
       "      <td>biography</td>\n",
       "      <td>463</td>\n",
       "    </tr>\n",
       "    <tr>\n",
       "      <th>46</th>\n",
       "      <td>black</td>\n",
       "      <td>412</td>\n",
       "    </tr>\n",
       "    <tr>\n",
       "      <th>148</th>\n",
       "      <td>history</td>\n",
       "      <td>256</td>\n",
       "    </tr>\n",
       "    <tr>\n",
       "      <th>367</th>\n",
       "      <td>short</td>\n",
       "      <td>242</td>\n",
       "    </tr>\n",
       "    <tr>\n",
       "      <th>113</th>\n",
       "      <td>documentary</td>\n",
       "      <td>131</td>\n",
       "    </tr>\n",
       "    <tr>\n",
       "      <th>390</th>\n",
       "      <td>sports</td>\n",
       "      <td>121</td>\n",
       "    </tr>\n",
       "    <tr>\n",
       "      <th>356</th>\n",
       "      <td>series</td>\n",
       "      <td>86</td>\n",
       "    </tr>\n",
       "    <tr>\n",
       "      <th>5</th>\n",
       "      <td>adult</td>\n",
       "      <td>71</td>\n",
       "    </tr>\n",
       "    <tr>\n",
       "      <th>287</th>\n",
       "      <td>political</td>\n",
       "      <td>60</td>\n",
       "    </tr>\n",
       "    <tr>\n",
       "      <th>89</th>\n",
       "      <td>costume</td>\n",
       "      <td>49</td>\n",
       "    </tr>\n",
       "    <tr>\n",
       "      <th>428</th>\n",
       "      <td>tokusatsu</td>\n",
       "      <td>43</td>\n",
       "    </tr>\n",
       "    <tr>\n",
       "      <th>222</th>\n",
       "      <td>masala</td>\n",
       "      <td>41</td>\n",
       "    </tr>\n",
       "    <tr>\n",
       "      <th>410</th>\n",
       "      <td>supernatural</td>\n",
       "      <td>41</td>\n",
       "    </tr>\n",
       "    <tr>\n",
       "      <th>306</th>\n",
       "      <td>psycho</td>\n",
       "      <td>39</td>\n",
       "    </tr>\n",
       "  </tbody>\n",
       "</table>\n",
       "</div>"
      ],
      "text/plain": [
       "            Genre  Count\n",
       "115         drama   9487\n",
       "84         comedy   7320\n",
       "3          action   5952\n",
       "425      thriller   3291\n",
       "336       romance   2639\n",
       "93          crime   1607\n",
       "243       musical    951\n",
       "15      animation    914\n",
       "72       children    684\n",
       "130       fantasy    542\n",
       "244       mystery    481\n",
       "45      biography    463\n",
       "46          black    412\n",
       "148       history    256\n",
       "367         short    242\n",
       "113   documentary    131\n",
       "390        sports    121\n",
       "356        series     86\n",
       "5           adult     71\n",
       "287     political     60\n",
       "89        costume     49\n",
       "428     tokusatsu     43\n",
       "222        masala     41\n",
       "410  supernatural     41\n",
       "306        psycho     39"
      ]
     },
     "execution_count": 18,
     "metadata": {},
     "output_type": "execute_result"
    }
   ],
   "source": [
    "genres = genres[genres['Genre']!='']\n",
    "genres.head(25)"
   ]
  },
  {
   "cell_type": "code",
   "execution_count": 19,
   "metadata": {
    "_uuid": "49c865c0688db94361922baf2d947425585091ac"
   },
   "outputs": [],
   "source": [
    "TotalCountGenres=sum(genres['Count'])"
   ]
  },
  {
   "cell_type": "code",
   "execution_count": 20,
   "metadata": {
    "_uuid": "8f853b9aa54ebc80ccce06d031f968e8521a9ddd"
   },
   "outputs": [
    {
     "data": {
      "text/plain": [
       "37321"
      ]
     },
     "execution_count": 20,
     "metadata": {},
     "output_type": "execute_result"
    }
   ],
   "source": [
    "TotalCountGenres"
   ]
  },
  {
   "cell_type": "code",
   "execution_count": 21,
   "metadata": {
    "_uuid": "f1ee0437fcc733f05b3d87fb6cf6f5916448c3e6"
   },
   "outputs": [],
   "source": [
    "genres['Frequency'] = genres['Count']/TotalCountGenres"
   ]
  },
  {
   "cell_type": "code",
   "execution_count": 22,
   "metadata": {
    "_uuid": "d881161dfb87ef70439d41487709d616c469d279"
   },
   "outputs": [],
   "source": [
    "genres['CumulativeFrequency'] = genres['Frequency'].cumsum()"
   ]
  },
  {
   "cell_type": "code",
   "execution_count": 23,
   "metadata": {
    "_uuid": "5eae0732c6da8687ef99cf05f97f56a9c7ac6c53"
   },
   "outputs": [
    {
     "data": {
      "text/html": [
       "<div>\n",
       "<style scoped>\n",
       "    .dataframe tbody tr th:only-of-type {\n",
       "        vertical-align: middle;\n",
       "    }\n",
       "\n",
       "    .dataframe tbody tr th {\n",
       "        vertical-align: top;\n",
       "    }\n",
       "\n",
       "    .dataframe thead th {\n",
       "        text-align: right;\n",
       "    }\n",
       "</style>\n",
       "<table border=\"1\" class=\"dataframe\">\n",
       "  <thead>\n",
       "    <tr style=\"text-align: right;\">\n",
       "      <th></th>\n",
       "      <th>Genre</th>\n",
       "      <th>Count</th>\n",
       "      <th>Frequency</th>\n",
       "      <th>CumulativeFrequency</th>\n",
       "    </tr>\n",
       "  </thead>\n",
       "  <tbody>\n",
       "    <tr>\n",
       "      <th>115</th>\n",
       "      <td>drama</td>\n",
       "      <td>9487</td>\n",
       "      <td>0.254200</td>\n",
       "      <td>0.254200</td>\n",
       "    </tr>\n",
       "    <tr>\n",
       "      <th>84</th>\n",
       "      <td>comedy</td>\n",
       "      <td>7320</td>\n",
       "      <td>0.196136</td>\n",
       "      <td>0.450336</td>\n",
       "    </tr>\n",
       "    <tr>\n",
       "      <th>3</th>\n",
       "      <td>action</td>\n",
       "      <td>5952</td>\n",
       "      <td>0.159481</td>\n",
       "      <td>0.609818</td>\n",
       "    </tr>\n",
       "    <tr>\n",
       "      <th>425</th>\n",
       "      <td>thriller</td>\n",
       "      <td>3291</td>\n",
       "      <td>0.088181</td>\n",
       "      <td>0.697998</td>\n",
       "    </tr>\n",
       "    <tr>\n",
       "      <th>336</th>\n",
       "      <td>romance</td>\n",
       "      <td>2639</td>\n",
       "      <td>0.070711</td>\n",
       "      <td>0.768709</td>\n",
       "    </tr>\n",
       "    <tr>\n",
       "      <th>93</th>\n",
       "      <td>crime</td>\n",
       "      <td>1607</td>\n",
       "      <td>0.043059</td>\n",
       "      <td>0.811768</td>\n",
       "    </tr>\n",
       "    <tr>\n",
       "      <th>243</th>\n",
       "      <td>musical</td>\n",
       "      <td>951</td>\n",
       "      <td>0.025482</td>\n",
       "      <td>0.837250</td>\n",
       "    </tr>\n",
       "    <tr>\n",
       "      <th>15</th>\n",
       "      <td>animation</td>\n",
       "      <td>914</td>\n",
       "      <td>0.024490</td>\n",
       "      <td>0.861740</td>\n",
       "    </tr>\n",
       "    <tr>\n",
       "      <th>72</th>\n",
       "      <td>children</td>\n",
       "      <td>684</td>\n",
       "      <td>0.018327</td>\n",
       "      <td>0.880068</td>\n",
       "    </tr>\n",
       "    <tr>\n",
       "      <th>130</th>\n",
       "      <td>fantasy</td>\n",
       "      <td>542</td>\n",
       "      <td>0.014523</td>\n",
       "      <td>0.894590</td>\n",
       "    </tr>\n",
       "    <tr>\n",
       "      <th>244</th>\n",
       "      <td>mystery</td>\n",
       "      <td>481</td>\n",
       "      <td>0.012888</td>\n",
       "      <td>0.907478</td>\n",
       "    </tr>\n",
       "    <tr>\n",
       "      <th>45</th>\n",
       "      <td>biography</td>\n",
       "      <td>463</td>\n",
       "      <td>0.012406</td>\n",
       "      <td>0.919884</td>\n",
       "    </tr>\n",
       "    <tr>\n",
       "      <th>46</th>\n",
       "      <td>black</td>\n",
       "      <td>412</td>\n",
       "      <td>0.011039</td>\n",
       "      <td>0.930924</td>\n",
       "    </tr>\n",
       "    <tr>\n",
       "      <th>148</th>\n",
       "      <td>history</td>\n",
       "      <td>256</td>\n",
       "      <td>0.006859</td>\n",
       "      <td>0.937783</td>\n",
       "    </tr>\n",
       "    <tr>\n",
       "      <th>367</th>\n",
       "      <td>short</td>\n",
       "      <td>242</td>\n",
       "      <td>0.006484</td>\n",
       "      <td>0.944267</td>\n",
       "    </tr>\n",
       "    <tr>\n",
       "      <th>113</th>\n",
       "      <td>documentary</td>\n",
       "      <td>131</td>\n",
       "      <td>0.003510</td>\n",
       "      <td>0.947777</td>\n",
       "    </tr>\n",
       "    <tr>\n",
       "      <th>390</th>\n",
       "      <td>sports</td>\n",
       "      <td>121</td>\n",
       "      <td>0.003242</td>\n",
       "      <td>0.951020</td>\n",
       "    </tr>\n",
       "    <tr>\n",
       "      <th>356</th>\n",
       "      <td>series</td>\n",
       "      <td>86</td>\n",
       "      <td>0.002304</td>\n",
       "      <td>0.953324</td>\n",
       "    </tr>\n",
       "    <tr>\n",
       "      <th>5</th>\n",
       "      <td>adult</td>\n",
       "      <td>71</td>\n",
       "      <td>0.001902</td>\n",
       "      <td>0.955226</td>\n",
       "    </tr>\n",
       "    <tr>\n",
       "      <th>287</th>\n",
       "      <td>political</td>\n",
       "      <td>60</td>\n",
       "      <td>0.001608</td>\n",
       "      <td>0.956834</td>\n",
       "    </tr>\n",
       "  </tbody>\n",
       "</table>\n",
       "</div>"
      ],
      "text/plain": [
       "           Genre  Count  Frequency  CumulativeFrequency\n",
       "115        drama   9487   0.254200             0.254200\n",
       "84        comedy   7320   0.196136             0.450336\n",
       "3         action   5952   0.159481             0.609818\n",
       "425     thriller   3291   0.088181             0.697998\n",
       "336      romance   2639   0.070711             0.768709\n",
       "93         crime   1607   0.043059             0.811768\n",
       "243      musical    951   0.025482             0.837250\n",
       "15     animation    914   0.024490             0.861740\n",
       "72      children    684   0.018327             0.880068\n",
       "130      fantasy    542   0.014523             0.894590\n",
       "244      mystery    481   0.012888             0.907478\n",
       "45     biography    463   0.012406             0.919884\n",
       "46         black    412   0.011039             0.930924\n",
       "148      history    256   0.006859             0.937783\n",
       "367        short    242   0.006484             0.944267\n",
       "113  documentary    131   0.003510             0.947777\n",
       "390       sports    121   0.003242             0.951020\n",
       "356       series     86   0.002304             0.953324\n",
       "5          adult     71   0.001902             0.955226\n",
       "287    political     60   0.001608             0.956834"
      ]
     },
     "execution_count": 23,
     "metadata": {},
     "output_type": "execute_result"
    }
   ],
   "source": [
    "genres.head(20)"
   ]
  },
  {
   "cell_type": "markdown",
   "metadata": {
    "_uuid": "e73d6c5dc42784220472d05ee8aa819cea41712b"
   },
   "source": [
    "**Selecting the genres having a cumulative frequency 95.7% and below**"
   ]
  },
  {
   "cell_type": "code",
   "execution_count": 24,
   "metadata": {
    "_uuid": "a0af62c75ae96eed23d5d630f8264c1be67cfcad"
   },
   "outputs": [
    {
     "data": {
      "text/plain": [
       "array(['drama', 'comedy', 'action', 'thriller', 'romance', 'crime',\n",
       "       'musical', 'animation', 'children', 'fantasy', 'mystery',\n",
       "       'biography', 'black', 'history', 'short', 'documentary', 'sports',\n",
       "       'series', 'adult', 'political'], dtype=object)"
      ]
     },
     "execution_count": 24,
     "metadata": {},
     "output_type": "execute_result"
    }
   ],
   "source": [
    "np.array(genres[genres['CumulativeFrequency']<=.957]['Genre'])"
   ]
  },
  {
   "cell_type": "code",
   "execution_count": 25,
   "metadata": {
    "_uuid": "d2b6c164e3b863101f884d0def2d4d4fb81df492"
   },
   "outputs": [
    {
     "data": {
      "image/png": "[encoded data removed]",
      "text/plain": [
       "<Figure size 800x500 with 1 Axes>"
      ]
     },
     "metadata": {},
     "output_type": "display_data"
    }
   ],
   "source": [
    "genres[genres['CumulativeFrequency']<=.957][['Genre','Count']].plot(x='Genre', y='Count', kind='bar', legend=False, grid=True, figsize=(8, 5))\n",
    "plt.title(\"Number of movies per genre\")\n",
    "plt.ylabel('# of Occurrences', fontsize=12)\n",
    "plt.xlabel('Movie genres', fontsize=12)\n",
    "plt.show()"
   ]
  },
  {
   "cell_type": "code",
   "execution_count": 26,
   "metadata": {
    "_uuid": "1a63e57a1591d0968de4b0ff10cf3f57e56ffdc6"
   },
   "outputs": [],
   "source": [
    "mainGenres=np.array(genres[genres['CumulativeFrequency']<=.957]['Genre'])"
   ]
  },
  {
   "cell_type": "code",
   "execution_count": 27,
   "metadata": {
    "_uuid": "c80eda34f8fc3c9ea2e77af95ace4a254d99a7a0"
   },
   "outputs": [
    {
     "data": {
      "text/plain": [
       "array(['adult', 'romance', 'drama'], dtype='<U7')"
      ]
     },
     "execution_count": 27,
     "metadata": {},
     "output_type": "execute_result"
    }
   ],
   "source": [
    "arr1=np.array(['adult', 'romance', 'drama','and'])\n",
    "arr1[np.in1d(arr1,mainGenres)] # genres not in the mainGenres array will be deleted\n"
   ]
  },
  {
   "cell_type": "code",
   "execution_count": 28,
   "metadata": {
    "_uuid": "4c2346e9e2dd6f9709e4f49930d9c61b79d6648d"
   },
   "outputs": [
    {
     "data": {
      "text/plain": [
       "10                   [short]\n",
       "11    [action, crime, short]\n",
       "Name: GenreSplit, dtype: object"
      ]
     },
     "execution_count": 28,
     "metadata": {},
     "output_type": "execute_result"
    }
   ],
   "source": [
    "movies['GenreSplit'][10:12].apply(lambda x: x[np.in1d(x,mainGenres)])"
   ]
  },
  {
   "cell_type": "code",
   "execution_count": 29,
   "metadata": {
    "_uuid": "25f901fb1093eeab13b0a1f1f86212b8ba6db0de"
   },
   "outputs": [],
   "source": [
    "movies['GenreSplitMain'] = movies['GenreSplit'].apply(lambda x: x[np.in1d(x,mainGenres)])"
   ]
  },
  {
   "cell_type": "code",
   "execution_count": 30,
   "metadata": {
    "_uuid": "2a863dc285fe39aa733f5e04702a79eae2a88bb2"
   },
   "outputs": [
    {
     "data": {
      "text/html": [
       "<div>\n",
       "<style scoped>\n",
       "    .dataframe tbody tr th:only-of-type {\n",
       "        vertical-align: middle;\n",
       "    }\n",
       "\n",
       "    .dataframe tbody tr th {\n",
       "        vertical-align: top;\n",
       "    }\n",
       "\n",
       "    .dataframe thead th {\n",
       "        text-align: right;\n",
       "    }\n",
       "</style>\n",
       "<table border=\"1\" class=\"dataframe\">\n",
       "  <thead>\n",
       "    <tr style=\"text-align: right;\">\n",
       "      <th></th>\n",
       "      <th>GenreSplitMain</th>\n",
       "      <th>GenreSplit</th>\n",
       "      <th>Genre</th>\n",
       "    </tr>\n",
       "  </thead>\n",
       "  <tbody>\n",
       "    <tr>\n",
       "      <th>200</th>\n",
       "      <td>[drama]</td>\n",
       "      <td>[drama]</td>\n",
       "      <td>drama</td>\n",
       "    </tr>\n",
       "    <tr>\n",
       "      <th>201</th>\n",
       "      <td>[drama]</td>\n",
       "      <td>[drama]</td>\n",
       "      <td>drama</td>\n",
       "    </tr>\n",
       "    <tr>\n",
       "      <th>202</th>\n",
       "      <td>[comedy]</td>\n",
       "      <td>[comedy]</td>\n",
       "      <td>comedy</td>\n",
       "    </tr>\n",
       "    <tr>\n",
       "      <th>203</th>\n",
       "      <td>[drama]</td>\n",
       "      <td>[drama]</td>\n",
       "      <td>drama</td>\n",
       "    </tr>\n",
       "    <tr>\n",
       "      <th>204</th>\n",
       "      <td>[comedy]</td>\n",
       "      <td>[comedy]</td>\n",
       "      <td>comedy</td>\n",
       "    </tr>\n",
       "    <tr>\n",
       "      <th>205</th>\n",
       "      <td>[comedy, drama]</td>\n",
       "      <td>[comedy, drama]</td>\n",
       "      <td>comedy drama</td>\n",
       "    </tr>\n",
       "    <tr>\n",
       "      <th>206</th>\n",
       "      <td>[mystery]</td>\n",
       "      <td>[mystery]</td>\n",
       "      <td>mystery</td>\n",
       "    </tr>\n",
       "    <tr>\n",
       "      <th>207</th>\n",
       "      <td>[drama]</td>\n",
       "      <td>[drama]</td>\n",
       "      <td>drama</td>\n",
       "    </tr>\n",
       "    <tr>\n",
       "      <th>208</th>\n",
       "      <td>[drama]</td>\n",
       "      <td>[drama]</td>\n",
       "      <td>drama</td>\n",
       "    </tr>\n",
       "    <tr>\n",
       "      <th>209</th>\n",
       "      <td>[comedy, drama]</td>\n",
       "      <td>[comedy, drama]</td>\n",
       "      <td>comedy drama</td>\n",
       "    </tr>\n",
       "    <tr>\n",
       "      <th>210</th>\n",
       "      <td>[comedy]</td>\n",
       "      <td>[comedy]</td>\n",
       "      <td>comedy</td>\n",
       "    </tr>\n",
       "    <tr>\n",
       "      <th>211</th>\n",
       "      <td>[fantasy]</td>\n",
       "      <td>[fantasy]</td>\n",
       "      <td>fantasy</td>\n",
       "    </tr>\n",
       "    <tr>\n",
       "      <th>212</th>\n",
       "      <td>[drama]</td>\n",
       "      <td>[drama]</td>\n",
       "      <td>drama</td>\n",
       "    </tr>\n",
       "    <tr>\n",
       "      <th>213</th>\n",
       "      <td>[action, drama]</td>\n",
       "      <td>[action, drama]</td>\n",
       "      <td>war drama</td>\n",
       "    </tr>\n",
       "    <tr>\n",
       "      <th>214</th>\n",
       "      <td>[action, drama]</td>\n",
       "      <td>[action, drama]</td>\n",
       "      <td>war drama</td>\n",
       "    </tr>\n",
       "    <tr>\n",
       "      <th>215</th>\n",
       "      <td>[action]</td>\n",
       "      <td>[action]</td>\n",
       "      <td>adventure</td>\n",
       "    </tr>\n",
       "    <tr>\n",
       "      <th>216</th>\n",
       "      <td>[comedy, romance]</td>\n",
       "      <td>[comedy, romance]</td>\n",
       "      <td>romantic comedy</td>\n",
       "    </tr>\n",
       "    <tr>\n",
       "      <th>217</th>\n",
       "      <td>[]</td>\n",
       "      <td>[propaganda]</td>\n",
       "      <td>propaganda</td>\n",
       "    </tr>\n",
       "    <tr>\n",
       "      <th>218</th>\n",
       "      <td>[action]</td>\n",
       "      <td>[action, propaganda]</td>\n",
       "      <td>ww1 propaganda</td>\n",
       "    </tr>\n",
       "    <tr>\n",
       "      <th>219</th>\n",
       "      <td>[action]</td>\n",
       "      <td>[action]</td>\n",
       "      <td>western</td>\n",
       "    </tr>\n",
       "  </tbody>\n",
       "</table>\n",
       "</div>"
      ],
      "text/plain": [
       "        GenreSplitMain            GenreSplit            Genre\n",
       "200            [drama]               [drama]            drama\n",
       "201            [drama]               [drama]            drama\n",
       "202           [comedy]              [comedy]           comedy\n",
       "203            [drama]               [drama]            drama\n",
       "204           [comedy]              [comedy]           comedy\n",
       "205    [comedy, drama]       [comedy, drama]     comedy drama\n",
       "206          [mystery]             [mystery]          mystery\n",
       "207            [drama]               [drama]            drama\n",
       "208            [drama]               [drama]            drama\n",
       "209    [comedy, drama]       [comedy, drama]     comedy drama\n",
       "210           [comedy]              [comedy]           comedy\n",
       "211          [fantasy]             [fantasy]          fantasy\n",
       "212            [drama]               [drama]            drama\n",
       "213    [action, drama]       [action, drama]        war drama\n",
       "214    [action, drama]       [action, drama]        war drama\n",
       "215           [action]              [action]        adventure\n",
       "216  [comedy, romance]     [comedy, romance]  romantic comedy\n",
       "217                 []          [propaganda]       propaganda\n",
       "218           [action]  [action, propaganda]   ww1 propaganda\n",
       "219           [action]              [action]          western"
      ]
     },
     "execution_count": 30,
     "metadata": {},
     "output_type": "execute_result"
    }
   ],
   "source": [
    "movies[['GenreSplitMain','GenreSplit','Genre']][200:220]"
   ]
  },
  {
   "cell_type": "code",
   "execution_count": 31,
   "metadata": {
    "_uuid": "fca82486e7d5245872c5fa638cc42135a387f30e"
   },
   "outputs": [],
   "source": [
    "# function for cleaning the plots of the movies\n",
    "def clean_text(text):\n",
    "    text = text.lower()\n",
    "    text = re.sub(r\"what's\", \"what is \", text)\n",
    "    text = re.sub(r\"\\'s\", \" \", text)\n",
    "    text = re.sub(r\"\\'ve\", \" have \", text)\n",
    "    text = re.sub(r\"can't\", \"can not \", text)\n",
    "    text = re.sub(r\"n't\", \" not \", text)\n",
    "    text = re.sub(r\"i'm\", \"i am \", text)\n",
    "    text = re.sub(r\"\\'re\", \" are \", text)\n",
    "    text = re.sub(r\"\\'d\", \" would \", text)\n",
    "    text = re.sub(r\"\\'ll\", \" will \", text)\n",
    "    text = re.sub(r\"\\'scuse\", \" excuse \", text)\n",
    "    #text = re.sub('\\W', ' ', text)\n",
    "    #text = re.sub('\\s+', ' ', text)\n",
    "    text = text.strip(' ')\n",
    "    return text"
   ]
  },
  {
   "cell_type": "code",
   "execution_count": 32,
   "metadata": {
    "_uuid": "94290c91f030c37414c475a3bce0adb2148078b6"
   },
   "outputs": [
    {
     "data": {
      "text/plain": [
       "['the rarebit fiend gorges on welsh rarebit at a restaurant. when he leaves, he begins to get dizzy as he starts to hallucinate. he desperately tries to hang onto a lamppost as the world spins all around him. a man helps him get home. he falls into bed and begins having more hallucinatory dreams. during a dream sequence, the furniture begins moving around the room. imps emerge from a floating welsh rarebit container and begin poking his head as he sleeps. his bed then begins dancing and spinning wildly around the room before flying out the window with the fiend in it. the bed floats across the city as the fiend floats up and off the bed. he hangs off the back and eventually gets caught on a weathervane atop a steeple. his bedclothes tear and he falls from the sky, crashing through his bedroom ceiling. the fiend awakens from the dream after falling out of his bed.',\n",
       " 'the film features a train traveling through the rockies and a hold up created by two thugs placing logs on the line. they systematically rob the wealthy occupants at gunpoint and then make their getaway along the tracks and later by a hi-jacked horse and cart.']"
      ]
     },
     "execution_count": 32,
     "metadata": {},
     "output_type": "execute_result"
    }
   ],
   "source": [
    "list(movies['Plot'][10:12].apply(clean_text))"
   ]
  },
  {
   "cell_type": "code",
   "execution_count": 33,
   "metadata": {
    "_uuid": "f245a5d4632628b958354c98815e266e5c6abafb"
   },
   "outputs": [
    {
     "data": {
      "text/plain": [
       "['The Rarebit Fiend gorges on Welsh rarebit at a restaurant. When he leaves, he begins to get dizzy as he starts to hallucinate. He desperately tries to hang onto a lamppost as the world spins all around him. A man helps him get home. He falls into bed and begins having more hallucinatory dreams. During a dream sequence, the furniture begins moving around the room. Imps emerge from a floating Welsh rarebit container and begin poking his head as he sleeps. His bed then begins dancing and spinning wildly around the room before flying out the window with the Fiend in it. The bed floats across the city as the Fiend floats up and off the bed. He hangs off the back and eventually gets caught on a weathervane atop a steeple. His bedclothes tear and he falls from the sky, crashing through his bedroom ceiling. The Fiend awakens from the dream after falling out of his bed.',\n",
       " 'The film features a train traveling through the Rockies and a hold up created by two thugs placing logs on the line. They systematically rob the wealthy occupants at gunpoint and then make their getaway along the tracks and later by a hi-jacked horse and cart.']"
      ]
     },
     "execution_count": 33,
     "metadata": {},
     "output_type": "execute_result"
    }
   ],
   "source": [
    "list(movies['Plot'][10:12])"
   ]
  },
  {
   "cell_type": "code",
   "execution_count": 34,
   "metadata": {
    "_uuid": "ddc7914a1f6a5b52d33dbde9f9a548daec0ffed5"
   },
   "outputs": [],
   "source": [
    "movies['PlotClean'] = movies['Plot'].apply(clean_text)"
   ]
  },
  {
   "cell_type": "code",
   "execution_count": 35,
   "metadata": {
    "_uuid": "1e4f4cd894bba128b71e89c7d837c693016e2cd4"
   },
   "outputs": [
    {
     "data": {
      "text/html": [
       "<div>\n",
       "<style scoped>\n",
       "    .dataframe tbody tr th:only-of-type {\n",
       "        vertical-align: middle;\n",
       "    }\n",
       "\n",
       "    .dataframe tbody tr th {\n",
       "        vertical-align: top;\n",
       "    }\n",
       "\n",
       "    .dataframe thead th {\n",
       "        text-align: right;\n",
       "    }\n",
       "</style>\n",
       "<table border=\"1\" class=\"dataframe\">\n",
       "  <thead>\n",
       "    <tr style=\"text-align: right;\">\n",
       "      <th></th>\n",
       "      <th>Plot</th>\n",
       "      <th>PlotClean</th>\n",
       "      <th>GenreSplitMain</th>\n",
       "    </tr>\n",
       "  </thead>\n",
       "  <tbody>\n",
       "    <tr>\n",
       "      <th>6</th>\n",
       "      <td>The film opens with two bandits breaking into ...</td>\n",
       "      <td>the film opens with two bandits breaking into ...</td>\n",
       "      <td>[action]</td>\n",
       "    </tr>\n",
       "    <tr>\n",
       "      <th>7</th>\n",
       "      <td>The film is about a family who move to the sub...</td>\n",
       "      <td>the film is about a family who move to the sub...</td>\n",
       "      <td>[comedy]</td>\n",
       "    </tr>\n",
       "    <tr>\n",
       "      <th>8</th>\n",
       "      <td>The opening scene shows the interior of the ro...</td>\n",
       "      <td>the opening scene shows the interior of the ro...</td>\n",
       "      <td>[]</td>\n",
       "    </tr>\n",
       "    <tr>\n",
       "      <th>9</th>\n",
       "      <td>Scenes are introduced using lines of the poem....</td>\n",
       "      <td>scenes are introduced using lines of the poem....</td>\n",
       "      <td>[]</td>\n",
       "    </tr>\n",
       "    <tr>\n",
       "      <th>10</th>\n",
       "      <td>The Rarebit Fiend gorges on Welsh rarebit at a...</td>\n",
       "      <td>the rarebit fiend gorges on welsh rarebit at a...</td>\n",
       "      <td>[short]</td>\n",
       "    </tr>\n",
       "    <tr>\n",
       "      <th>11</th>\n",
       "      <td>The film features a train traveling through th...</td>\n",
       "      <td>the film features a train traveling through th...</td>\n",
       "      <td>[action, crime, short]</td>\n",
       "    </tr>\n",
       "  </tbody>\n",
       "</table>\n",
       "</div>"
      ],
      "text/plain": [
       "                                                 Plot  \\\n",
       "6   The film opens with two bandits breaking into ...   \n",
       "7   The film is about a family who move to the sub...   \n",
       "8   The opening scene shows the interior of the ro...   \n",
       "9   Scenes are introduced using lines of the poem....   \n",
       "10  The Rarebit Fiend gorges on Welsh rarebit at a...   \n",
       "11  The film features a train traveling through th...   \n",
       "\n",
       "                                            PlotClean          GenreSplitMain  \n",
       "6   the film opens with two bandits breaking into ...                [action]  \n",
       "7   the film is about a family who move to the sub...                [comedy]  \n",
       "8   the opening scene shows the interior of the ro...                      []  \n",
       "9   scenes are introduced using lines of the poem....                      []  \n",
       "10  the rarebit fiend gorges on welsh rarebit at a...                 [short]  \n",
       "11  the film features a train traveling through th...  [action, crime, short]  "
      ]
     },
     "execution_count": 35,
     "metadata": {},
     "output_type": "execute_result"
    }
   ],
   "source": [
    "movies[['Plot','PlotClean','GenreSplitMain']][6:12]"
   ]
  },
  {
   "cell_type": "code",
   "execution_count": 36,
   "metadata": {
    "_uuid": "139e189d173316d3c353e43774f612d02ca31b32"
   },
   "outputs": [
    {
     "data": {
      "text/plain": [
       "0"
      ]
     },
     "execution_count": 36,
     "metadata": {},
     "output_type": "execute_result"
    }
   ],
   "source": [
    "len(movies['GenreSplitMain'][0])"
   ]
  },
  {
   "cell_type": "code",
   "execution_count": 37,
   "metadata": {
    "_uuid": "22496363fa782710b47ad180be7b8c82ec0354ce"
   },
   "outputs": [
    {
     "data": {
      "text/plain": [
       "0    0\n",
       "1    0\n",
       "2    0\n",
       "3    0\n",
       "4    0\n",
       "Name: GenreSplitMain, dtype: int64"
      ]
     },
     "execution_count": 37,
     "metadata": {},
     "output_type": "execute_result"
    }
   ],
   "source": [
    "movies['GenreSplitMain'][0:5].apply(len)"
   ]
  },
  {
   "cell_type": "code",
   "execution_count": 38,
   "metadata": {
    "_uuid": "660ccd8d74620ab09abab876a5c9bc328c291fd5"
   },
   "outputs": [],
   "source": [
    "movies['MainGenresCount'] = movies['GenreSplitMain'].apply(len)"
   ]
  },
  {
   "cell_type": "code",
   "execution_count": 39,
   "metadata": {
    "_uuid": "a5bd148d8e2cbe80189b113a4c76ce1ace3e8280"
   },
   "outputs": [
    {
     "data": {
      "text/plain": [
       "7"
      ]
     },
     "execution_count": 39,
     "metadata": {},
     "output_type": "execute_result"
    }
   ],
   "source": [
    "max(movies['MainGenresCount'] )"
   ]
  },
  {
   "cell_type": "code",
   "execution_count": 40,
   "metadata": {
    "_uuid": "e0a47a3871cde6fa31c95ff6f44912c9d6de6094"
   },
   "outputs": [
    {
     "data": {
      "text/html": [
       "<div>\n",
       "<style scoped>\n",
       "    .dataframe tbody tr th:only-of-type {\n",
       "        vertical-align: middle;\n",
       "    }\n",
       "\n",
       "    .dataframe tbody tr th {\n",
       "        vertical-align: top;\n",
       "    }\n",
       "\n",
       "    .dataframe thead th {\n",
       "        text-align: right;\n",
       "    }\n",
       "</style>\n",
       "<table border=\"1\" class=\"dataframe\">\n",
       "  <thead>\n",
       "    <tr style=\"text-align: right;\">\n",
       "      <th></th>\n",
       "      <th>Release Year</th>\n",
       "      <th>Title</th>\n",
       "      <th>Origin/Ethnicity</th>\n",
       "      <th>Director</th>\n",
       "      <th>Cast</th>\n",
       "      <th>Genre</th>\n",
       "      <th>Wiki Page</th>\n",
       "      <th>Plot</th>\n",
       "      <th>Count</th>\n",
       "      <th>GenreCorrected</th>\n",
       "      <th>GenreSplit</th>\n",
       "      <th>GenreSplitMain</th>\n",
       "      <th>PlotClean</th>\n",
       "      <th>MainGenresCount</th>\n",
       "    </tr>\n",
       "  </thead>\n",
       "  <tbody>\n",
       "    <tr>\n",
       "      <th>17314</th>\n",
       "      <td>2017</td>\n",
       "      <td>American Made</td>\n",
       "      <td>American</td>\n",
       "      <td>Doug Liman</td>\n",
       "      <td>Doug Liman (director); Gary Spinelli (screenpl...</td>\n",
       "      <td>biography, action, comedy, crime, drama, histo...</td>\n",
       "      <td>https://en.wikipedia.org/wiki/American_Made_(f...</td>\n",
       "      <td>In the late 1970s, Barry Seal, a pilot for com...</td>\n",
       "      <td>1</td>\n",
       "      <td>biography|action|comedy|crime|drama|history|th...</td>\n",
       "      <td>[action, biography, comedy, crime, drama, hist...</td>\n",
       "      <td>[action, biography, comedy, crime, drama, hist...</td>\n",
       "      <td>in the late 1970s, barry seal, a pilot for com...</td>\n",
       "      <td>7</td>\n",
       "    </tr>\n",
       "  </tbody>\n",
       "</table>\n",
       "</div>"
      ],
      "text/plain": [
       "       Release Year          Title Origin/Ethnicity    Director  \\\n",
       "17314          2017  American Made         American  Doug Liman   \n",
       "\n",
       "                                                    Cast  \\\n",
       "17314  Doug Liman (director); Gary Spinelli (screenpl...   \n",
       "\n",
       "                                                   Genre  \\\n",
       "17314  biography, action, comedy, crime, drama, histo...   \n",
       "\n",
       "                                               Wiki Page  \\\n",
       "17314  https://en.wikipedia.org/wiki/American_Made_(f...   \n",
       "\n",
       "                                                    Plot  Count  \\\n",
       "17314  In the late 1970s, Barry Seal, a pilot for com...      1   \n",
       "\n",
       "                                          GenreCorrected  \\\n",
       "17314  biography|action|comedy|crime|drama|history|th...   \n",
       "\n",
       "                                              GenreSplit  \\\n",
       "17314  [action, biography, comedy, crime, drama, hist...   \n",
       "\n",
       "                                          GenreSplitMain  \\\n",
       "17314  [action, biography, comedy, crime, drama, hist...   \n",
       "\n",
       "                                               PlotClean  MainGenresCount  \n",
       "17314  in the late 1970s, barry seal, a pilot for com...                7  "
      ]
     },
     "execution_count": 40,
     "metadata": {},
     "output_type": "execute_result"
    }
   ],
   "source": [
    "movies[movies['MainGenresCount']==7]"
   ]
  },
  {
   "cell_type": "code",
   "execution_count": 41,
   "metadata": {
    "_uuid": "7c488d2fe51af2b8c0a497bd844a70147e1e2758"
   },
   "outputs": [
    {
     "data": {
      "image/png": "[encoded data removed]",
      "text/plain": [
       "<Figure size 640x480 with 1 Axes>"
      ]
     },
     "metadata": {},
     "output_type": "display_data"
    }
   ],
   "source": [
    "movies['MainGenresCount'].hist()\n",
    "\n",
    "plt.title(\"Number of movies by number of genres\")\n",
    "plt.ylabel('# of movies', fontsize=12)\n",
    "plt.xlabel('# of genres', fontsize=12)\n",
    "plt.show()"
   ]
  },
  {
   "cell_type": "markdown",
   "metadata": {
    "_uuid": "84fa62d5d202f995d484c2d6af0708546e615943"
   },
   "source": [
    "## 3. Classifiers Training"
   ]
  },
  {
   "cell_type": "markdown",
   "metadata": {
    "_uuid": "4232738c1bce386d860520452b563af32f5fb6f1"
   },
   "source": [
    "### 3.1.Quick tutorial on CountVectorizer and TfidfVectorizer\n",
    "\n",
    "reference:\n",
    "\n",
    "* [https://www.kaggle.com/adamschroeder/countvectorizer-tfidfvectorizer-predict-comments](https://www.kaggle.com/adamschroeder/countvectorizer-tfidfvectorizer-predict-comments)\n",
    "\n",
    "* [https://towardsdatascience.com/multi-label-text-classification-with-scikit-learn-30714b7819c5](https://towardsdatascience.com/multi-label-text-classification-with-scikit-learn-30714b7819c5)"
   ]
  },
  {
   "cell_type": "code",
   "execution_count": 42,
   "metadata": {
    "_uuid": "4e29bdce63544a9bb376c667be75577a255d1d7b"
   },
   "outputs": [],
   "source": [
    "txt = [\"He is ::having a great Time, at the park time?\",\n",
    "       \"She, unlike most women, is a big player on the park's grass.\",\n",
    "       \"she can't be going\"]\n"
   ]
  },
  {
   "cell_type": "code",
   "execution_count": 43,
   "metadata": {
    "_uuid": "02aa6b31d4694414e61a12b81222de9bfb75ad45"
   },
   "outputs": [
    {
     "data": {
      "text/plain": [
       "['He is ::having a great Time, at the park time?',\n",
       " \"She, unlike most women, is a big player on the park's grass.\",\n",
       " \"she can't be going\"]"
      ]
     },
     "execution_count": 43,
     "metadata": {},
     "output_type": "execute_result"
    }
   ],
   "source": [
    "txt"
   ]
  },
  {
   "cell_type": "code",
   "execution_count": 44,
   "metadata": {
    "_uuid": "37e9b0c85c7204b5cb58fbded64881c0e469f2c2"
   },
   "outputs": [],
   "source": [
    "\n",
    "# Initialize a CountVectorizer object: count_vectorizer\n",
    "count_vec = CountVectorizer(stop_words=\"english\", analyzer='word', \n",
    "                            ngram_range=(1, 1), max_df=1.0, min_df=1, max_features=None)"
   ]
  },
  {
   "cell_type": "code",
   "execution_count": 45,
   "metadata": {
    "_uuid": "2449892e310575739c22275f66f9b93b48dbfabb"
   },
   "outputs": [
    {
     "name": "stdout",
     "output_type": "stream",
     "text": [
      "Every feature:\n",
      "['big', 'going', 'grass', 'great', 'having', 'park', 'player', 'time', 'unlike', 'women']\n",
      "\n",
      "Every 3rd feature:\n",
      "['big', 'great', 'player', 'women']\n"
     ]
    },
    {
     "name": "stderr",
     "output_type": "stream",
     "text": [
      "/home/daniele/.pyenv/versions/3.8.12/envs/alt_plot_gen/lib/python3.8/site-packages/sklearn/utils/deprecation.py:87: FutureWarning: Function get_feature_names is deprecated; get_feature_names is deprecated in 1.0 and will be removed in 1.2. Please use get_feature_names_out instead.\n",
      "  warnings.warn(msg, category=FutureWarning)\n"
     ]
    }
   ],
   "source": [
    "# Transforms the data into a bag of words\n",
    "count_train = count_vec.fit(txt)\n",
    "bag_of_words = count_vec.transform(txt)\n",
    "\n",
    "# Print the first 10 features of the count_vec\n",
    "print(\"Every feature:\\n{}\".format(count_vec.get_feature_names()))\n",
    "print(\"\\nEvery 3rd feature:\\n{}\".format(count_vec.get_feature_names()[::3]))"
   ]
  },
  {
   "cell_type": "code",
   "execution_count": 46,
   "metadata": {
    "_uuid": "57abd53a5469bf587e697cde0e919ee60776f47f"
   },
   "outputs": [
    {
     "data": {
      "text/plain": [
       "array([[0, 0, 0, 1, 1, 1, 0, 2, 0, 0],\n",
       "       [1, 0, 1, 0, 0, 1, 1, 0, 1, 1],\n",
       "       [0, 1, 0, 0, 0, 0, 0, 0, 0, 0]])"
      ]
     },
     "execution_count": 46,
     "metadata": {},
     "output_type": "execute_result"
    }
   ],
   "source": [
    "count_vec.fit_transform(txt).toarray()"
   ]
  },
  {
   "cell_type": "code",
   "execution_count": 47,
   "metadata": {
    "_uuid": "0409743533ba6441287985ee1b757af3a6ed6a67"
   },
   "outputs": [
    {
     "data": {
      "text/plain": [
       "['big', 'going', 'grass']"
      ]
     },
     "execution_count": 47,
     "metadata": {},
     "output_type": "execute_result"
    }
   ],
   "source": [
    "count_vec.get_feature_names()[:3]"
   ]
  },
  {
   "cell_type": "code",
   "execution_count": 48,
   "metadata": {
    "_uuid": "3564f14c0dfda119b944277dd502cb52d43c47d3"
   },
   "outputs": [
    {
     "data": {
      "text/html": [
       "<div>\n",
       "<style scoped>\n",
       "    .dataframe tbody tr th:only-of-type {\n",
       "        vertical-align: middle;\n",
       "    }\n",
       "\n",
       "    .dataframe tbody tr th {\n",
       "        vertical-align: top;\n",
       "    }\n",
       "\n",
       "    .dataframe thead th {\n",
       "        text-align: right;\n",
       "    }\n",
       "</style>\n",
       "<table border=\"1\" class=\"dataframe\">\n",
       "  <thead>\n",
       "    <tr style=\"text-align: right;\">\n",
       "      <th></th>\n",
       "      <th>0</th>\n",
       "      <th>1</th>\n",
       "      <th>2</th>\n",
       "    </tr>\n",
       "  </thead>\n",
       "  <tbody>\n",
       "    <tr>\n",
       "      <th>6</th>\n",
       "      <td>action</td>\n",
       "      <td>None</td>\n",
       "      <td>None</td>\n",
       "    </tr>\n",
       "    <tr>\n",
       "      <th>7</th>\n",
       "      <td>comedy</td>\n",
       "      <td>None</td>\n",
       "      <td>None</td>\n",
       "    </tr>\n",
       "    <tr>\n",
       "      <th>8</th>\n",
       "      <td></td>\n",
       "      <td>None</td>\n",
       "      <td>None</td>\n",
       "    </tr>\n",
       "    <tr>\n",
       "      <th>9</th>\n",
       "      <td></td>\n",
       "      <td>None</td>\n",
       "      <td>None</td>\n",
       "    </tr>\n",
       "    <tr>\n",
       "      <th>10</th>\n",
       "      <td>short</td>\n",
       "      <td>None</td>\n",
       "      <td>None</td>\n",
       "    </tr>\n",
       "    <tr>\n",
       "      <th>11</th>\n",
       "      <td>action</td>\n",
       "      <td>crime</td>\n",
       "      <td>short</td>\n",
       "    </tr>\n",
       "    <tr>\n",
       "      <th>12</th>\n",
       "      <td>short</td>\n",
       "      <td>None</td>\n",
       "      <td>None</td>\n",
       "    </tr>\n",
       "    <tr>\n",
       "      <th>13</th>\n",
       "      <td>biography</td>\n",
       "      <td>None</td>\n",
       "      <td>None</td>\n",
       "    </tr>\n",
       "    <tr>\n",
       "      <th>14</th>\n",
       "      <td>comedy</td>\n",
       "      <td>None</td>\n",
       "      <td>None</td>\n",
       "    </tr>\n",
       "  </tbody>\n",
       "</table>\n",
       "</div>"
      ],
      "text/plain": [
       "            0      1      2\n",
       "6      action   None   None\n",
       "7      comedy   None   None\n",
       "8               None   None\n",
       "9               None   None\n",
       "10      short   None   None\n",
       "11     action  crime  short\n",
       "12      short   None   None\n",
       "13  biography   None   None\n",
       "14     comedy   None   None"
      ]
     },
     "execution_count": 48,
     "metadata": {},
     "output_type": "execute_result"
    }
   ],
   "source": [
    "#z = movies.GenreSplitMain.str.split()\n",
    "movies.GenreSplitMain[6:15].apply(lambda x: '-'.join(x)).str.split(pat='-',n=5,expand=True)"
   ]
  },
  {
   "cell_type": "code",
   "execution_count": 49,
   "metadata": {
    "_uuid": "4f7a5449f9563b052f154839fcd09d776c874790"
   },
   "outputs": [
    {
     "data": {
      "text/html": [
       "<div>\n",
       "<style scoped>\n",
       "    .dataframe tbody tr th:only-of-type {\n",
       "        vertical-align: middle;\n",
       "    }\n",
       "\n",
       "    .dataframe tbody tr th {\n",
       "        vertical-align: top;\n",
       "    }\n",
       "\n",
       "    .dataframe thead th {\n",
       "        text-align: right;\n",
       "    }\n",
       "</style>\n",
       "<table border=\"1\" class=\"dataframe\">\n",
       "  <thead>\n",
       "    <tr style=\"text-align: right;\">\n",
       "      <th></th>\n",
       "      <th>action</th>\n",
       "      <th>biography</th>\n",
       "      <th>comedy</th>\n",
       "      <th>crime</th>\n",
       "      <th>short</th>\n",
       "    </tr>\n",
       "  </thead>\n",
       "  <tbody>\n",
       "    <tr>\n",
       "      <th>6</th>\n",
       "      <td>1</td>\n",
       "      <td>0</td>\n",
       "      <td>0</td>\n",
       "      <td>0</td>\n",
       "      <td>0</td>\n",
       "    </tr>\n",
       "    <tr>\n",
       "      <th>7</th>\n",
       "      <td>0</td>\n",
       "      <td>0</td>\n",
       "      <td>1</td>\n",
       "      <td>0</td>\n",
       "      <td>0</td>\n",
       "    </tr>\n",
       "    <tr>\n",
       "      <th>8</th>\n",
       "      <td>0</td>\n",
       "      <td>0</td>\n",
       "      <td>0</td>\n",
       "      <td>0</td>\n",
       "      <td>0</td>\n",
       "    </tr>\n",
       "    <tr>\n",
       "      <th>9</th>\n",
       "      <td>0</td>\n",
       "      <td>0</td>\n",
       "      <td>0</td>\n",
       "      <td>0</td>\n",
       "      <td>0</td>\n",
       "    </tr>\n",
       "    <tr>\n",
       "      <th>10</th>\n",
       "      <td>0</td>\n",
       "      <td>0</td>\n",
       "      <td>0</td>\n",
       "      <td>0</td>\n",
       "      <td>1</td>\n",
       "    </tr>\n",
       "    <tr>\n",
       "      <th>11</th>\n",
       "      <td>1</td>\n",
       "      <td>0</td>\n",
       "      <td>0</td>\n",
       "      <td>1</td>\n",
       "      <td>1</td>\n",
       "    </tr>\n",
       "    <tr>\n",
       "      <th>12</th>\n",
       "      <td>0</td>\n",
       "      <td>0</td>\n",
       "      <td>0</td>\n",
       "      <td>0</td>\n",
       "      <td>1</td>\n",
       "    </tr>\n",
       "    <tr>\n",
       "      <th>13</th>\n",
       "      <td>0</td>\n",
       "      <td>1</td>\n",
       "      <td>0</td>\n",
       "      <td>0</td>\n",
       "      <td>0</td>\n",
       "    </tr>\n",
       "    <tr>\n",
       "      <th>14</th>\n",
       "      <td>0</td>\n",
       "      <td>0</td>\n",
       "      <td>1</td>\n",
       "      <td>0</td>\n",
       "      <td>0</td>\n",
       "    </tr>\n",
       "  </tbody>\n",
       "</table>\n",
       "</div>"
      ],
      "text/plain": [
       "    action  biography  comedy  crime  short\n",
       "6        1          0       0      0      0\n",
       "7        0          0       1      0      0\n",
       "8        0          0       0      0      0\n",
       "9        0          0       0      0      0\n",
       "10       0          0       0      0      1\n",
       "11       1          0       0      1      1\n",
       "12       0          0       0      0      1\n",
       "13       0          1       0      0      0\n",
       "14       0          0       1      0      0"
      ]
     },
     "execution_count": 49,
     "metadata": {},
     "output_type": "execute_result"
    }
   ],
   "source": [
    "movies.GenreSplitMain[6:15].apply(lambda x: '-'.join(x)).str.get_dummies(sep='-')"
   ]
  },
  {
   "cell_type": "code",
   "execution_count": 50,
   "metadata": {
    "_uuid": "2b843914f7313f38935f85fc86bbb48511dc877c"
   },
   "outputs": [
    {
     "data": {
      "text/plain": [
       "6                   [action]\n",
       "7                   [comedy]\n",
       "8                         []\n",
       "9                         []\n",
       "10                   [short]\n",
       "11    [action, crime, short]\n",
       "12                   [short]\n",
       "13               [biography]\n",
       "14                  [comedy]\n",
       "Name: GenreSplitMain, dtype: object"
      ]
     },
     "execution_count": 50,
     "metadata": {},
     "output_type": "execute_result"
    }
   ],
   "source": [
    "movies.GenreSplitMain[6:15]"
   ]
  },
  {
   "cell_type": "code",
   "execution_count": 51,
   "metadata": {
    "_uuid": "c3f639c2fb2c2e2683c833a7ce583444f870a213"
   },
   "outputs": [
    {
     "data": {
      "text/plain": [
       "Index(['Release Year', 'Title', 'Origin/Ethnicity', 'Director', 'Cast',\n",
       "       'Genre', 'Wiki Page', 'Plot', 'Count', 'GenreCorrected', 'GenreSplit',\n",
       "       'GenreSplitMain', 'PlotClean', 'MainGenresCount'],\n",
       "      dtype='object')"
      ]
     },
     "execution_count": 51,
     "metadata": {},
     "output_type": "execute_result"
    }
   ],
   "source": [
    "movies.columns"
   ]
  },
  {
   "cell_type": "code",
   "execution_count": 52,
   "metadata": {
    "_uuid": "d32778b8185518cddd5139c8841ef61858fe7e03"
   },
   "outputs": [
    {
     "data": {
      "text/plain": [
       "(34886, 14)"
      ]
     },
     "execution_count": 52,
     "metadata": {},
     "output_type": "execute_result"
    }
   ],
   "source": [
    "movies.shape"
   ]
  },
  {
   "cell_type": "code",
   "execution_count": 53,
   "metadata": {
    "_uuid": "a8ebe6ee3e55e4fff4b1b0e0c8014863bf59a14e"
   },
   "outputs": [
    {
     "data": {
      "text/plain": [
       "32432"
      ]
     },
     "execution_count": 53,
     "metadata": {},
     "output_type": "execute_result"
    }
   ],
   "source": [
    "len(movies.Title.unique()) # the title is not unique"
   ]
  },
  {
   "cell_type": "code",
   "execution_count": 54,
   "metadata": {
    "_uuid": "32ce31b300f4cde90f97c394a57fc74ae833051f"
   },
   "outputs": [
    {
     "data": {
      "text/plain": [
       "(6206, 14)"
      ]
     },
     "execution_count": 54,
     "metadata": {},
     "output_type": "execute_result"
    }
   ],
   "source": [
    "# The number of movies not having a genre\n",
    "movies[movies.GenreCorrected==''].shape"
   ]
  },
  {
   "cell_type": "markdown",
   "metadata": {
    "_uuid": "92b84864fee19fdab1a8adc3a7fc7db4d529d49b",
    "collapsed": true
   },
   "source": [
    "### 3.2. Building the classification algorithms\n",
    "\n",
    "Steps to be done:\n",
    "\n",
    "1. Building the classes: one dummy variable for each genre. In this final project, there are 20 genres of movies.\n",
    "2. Split the data in Train and Test \n",
    "3. Building the features based on TfidfVectorizer\n"
   ]
  },
  {
   "cell_type": "markdown",
   "metadata": {
    "_uuid": "3b83acfe392b067ada4de24891b832a414bc6914"
   },
   "source": [
    "**Dummy classes**"
   ]
  },
  {
   "cell_type": "code",
   "execution_count": 55,
   "metadata": {
    "_uuid": "87513c6a14406cdb4421baf4606f294065fd365f"
   },
   "outputs": [],
   "source": [
    "# the dummy classes\n",
    "movies = pd.concat([movies, movies.GenreSplitMain.apply(lambda x: '-'.join(x)).str.get_dummies(sep='-')], axis=1)"
   ]
  },
  {
   "cell_type": "markdown",
   "metadata": {
    "_uuid": "85f3d56b4ad08392a6ca0c1432af9dc6512d5bab"
   },
   "source": [
    "**train_test_split**"
   ]
  },
  {
   "cell_type": "code",
   "execution_count": 56,
   "metadata": {
    "_uuid": "ab737e08425f6692bd1182be41ba8958995032d4"
   },
   "outputs": [],
   "source": [
    "# the train and the test data set will be build when there is at least one genre for a movie\n",
    "MoviesTrain, MoviesTest = train_test_split(movies[movies.GenreCorrected!=''], random_state=42, test_size=0.30, shuffle=True)"
   ]
  },
  {
   "cell_type": "markdown",
   "metadata": {
    "_uuid": "b239e08c655236541746423a50ca178321624bec"
   },
   "source": [
    "**Features**"
   ]
  },
  {
   "cell_type": "code",
   "execution_count": 57,
   "metadata": {
    "_uuid": "dcb1ab21ee94ff230b9663b3dc3b62e926e88ef4"
   },
   "outputs": [],
   "source": [
    "# definition the algorithm for feature extraction\n",
    "tfidf = TfidfVectorizer(stop_words ='english', smooth_idf=False, sublinear_tf=False, norm=None, analyzer='word')"
   ]
  },
  {
   "cell_type": "code",
   "execution_count": 58,
   "metadata": {
    "_uuid": "be02c653734f3baa7a921c3f789abc16756ac3aa"
   },
   "outputs": [],
   "source": [
    "# building the features\n",
    "x_train = tfidf.fit_transform(MoviesTrain.PlotClean) \n",
    "x_test  = tfidf.transform(MoviesTest.PlotClean)\n",
    "### for test data, the feature extraction will be done through the function transform()\n",
    "### to make sure there is no features dimensionality mismatch"
   ]
  },
  {
   "cell_type": "code",
   "execution_count": 59,
   "metadata": {
    "_uuid": "c6bfd1e46f119b1c669a45de6a1812b8d6fc7c0a"
   },
   "outputs": [
    {
     "name": "stdout",
     "output_type": "stream",
     "text": [
      "nrow of the MoviesTrain =20076\n"
     ]
    }
   ],
   "source": [
    "print('nrow of the MoviesTrain ={}'. format(MoviesTrain.shape[0]))"
   ]
  },
  {
   "cell_type": "code",
   "execution_count": 60,
   "metadata": {
    "_uuid": "65455de50b67cdfee6f52af4e1c292136dfab980"
   },
   "outputs": [
    {
     "name": "stdout",
     "output_type": "stream",
     "text": [
      "nrow of the MoviesTest =8604\n"
     ]
    }
   ],
   "source": [
    "print('nrow of the MoviesTest ={}'. format(MoviesTest.shape[0]))"
   ]
  },
  {
   "cell_type": "code",
   "execution_count": 61,
   "metadata": {
    "_uuid": "470a79c9bf033c8a433f25bcfa8d5ab125cc7d4b"
   },
   "outputs": [
    {
     "data": {
      "text/plain": [
       "scipy.sparse._csr.csr_matrix"
      ]
     },
     "execution_count": 61,
     "metadata": {},
     "output_type": "execute_result"
    }
   ],
   "source": [
    "type(x_train)"
   ]
  },
  {
   "cell_type": "code",
   "execution_count": 62,
   "metadata": {
    "_uuid": "f9b71df6b55e013bf69c0a623ab02d840b3407de"
   },
   "outputs": [
    {
     "ename": "MemoryError",
     "evalue": "Unable to allocate 15.5 GiB for an array with shape (20076, 103411) and data type float64",
     "output_type": "error",
     "traceback": [
      "\u001b[0;31m---------------------------------------------------------------------------\u001b[0m",
      "\u001b[0;31mMemoryError\u001b[0m                               Traceback (most recent call last)",
      "Input \u001b[0;32mIn [62]\u001b[0m, in \u001b[0;36m<cell line: 1>\u001b[0;34m()\u001b[0m\n\u001b[0;32m----> 1\u001b[0m \u001b[43mx_train\u001b[49m\u001b[38;5;241;43m.\u001b[39;49m\u001b[43mtoarray\u001b[49m\u001b[43m(\u001b[49m\u001b[43m)\u001b[49m\n",
      "File \u001b[0;32m~/.pyenv/versions/3.8.12/envs/alt_plot_gen/lib/python3.8/site-packages/scipy/sparse/_compressed.py:1051\u001b[0m, in \u001b[0;36m_cs_matrix.toarray\u001b[0;34m(self, order, out)\u001b[0m\n\u001b[1;32m   1049\u001b[0m \u001b[38;5;28;01mif\u001b[39;00m out \u001b[38;5;129;01mis\u001b[39;00m \u001b[38;5;28;01mNone\u001b[39;00m \u001b[38;5;129;01mand\u001b[39;00m order \u001b[38;5;129;01mis\u001b[39;00m \u001b[38;5;28;01mNone\u001b[39;00m:\n\u001b[1;32m   1050\u001b[0m     order \u001b[38;5;241m=\u001b[39m \u001b[38;5;28mself\u001b[39m\u001b[38;5;241m.\u001b[39m_swap(\u001b[38;5;124m'\u001b[39m\u001b[38;5;124mcf\u001b[39m\u001b[38;5;124m'\u001b[39m)[\u001b[38;5;241m0\u001b[39m]\n\u001b[0;32m-> 1051\u001b[0m out \u001b[38;5;241m=\u001b[39m \u001b[38;5;28;43mself\u001b[39;49m\u001b[38;5;241;43m.\u001b[39;49m\u001b[43m_process_toarray_args\u001b[49m\u001b[43m(\u001b[49m\u001b[43morder\u001b[49m\u001b[43m,\u001b[49m\u001b[43m \u001b[49m\u001b[43mout\u001b[49m\u001b[43m)\u001b[49m\n\u001b[1;32m   1052\u001b[0m \u001b[38;5;28;01mif\u001b[39;00m \u001b[38;5;129;01mnot\u001b[39;00m (out\u001b[38;5;241m.\u001b[39mflags\u001b[38;5;241m.\u001b[39mc_contiguous \u001b[38;5;129;01mor\u001b[39;00m out\u001b[38;5;241m.\u001b[39mflags\u001b[38;5;241m.\u001b[39mf_contiguous):\n\u001b[1;32m   1053\u001b[0m     \u001b[38;5;28;01mraise\u001b[39;00m \u001b[38;5;167;01mValueError\u001b[39;00m(\u001b[38;5;124m'\u001b[39m\u001b[38;5;124mOutput array must be C or F contiguous\u001b[39m\u001b[38;5;124m'\u001b[39m)\n",
      "File \u001b[0;32m~/.pyenv/versions/3.8.12/envs/alt_plot_gen/lib/python3.8/site-packages/scipy/sparse/_base.py:1298\u001b[0m, in \u001b[0;36mspmatrix._process_toarray_args\u001b[0;34m(self, order, out)\u001b[0m\n\u001b[1;32m   1296\u001b[0m     \u001b[38;5;28;01mreturn\u001b[39;00m out\n\u001b[1;32m   1297\u001b[0m \u001b[38;5;28;01melse\u001b[39;00m:\n\u001b[0;32m-> 1298\u001b[0m     \u001b[38;5;28;01mreturn\u001b[39;00m \u001b[43mnp\u001b[49m\u001b[38;5;241;43m.\u001b[39;49m\u001b[43mzeros\u001b[49m\u001b[43m(\u001b[49m\u001b[38;5;28;43mself\u001b[39;49m\u001b[38;5;241;43m.\u001b[39;49m\u001b[43mshape\u001b[49m\u001b[43m,\u001b[49m\u001b[43m \u001b[49m\u001b[43mdtype\u001b[49m\u001b[38;5;241;43m=\u001b[39;49m\u001b[38;5;28;43mself\u001b[39;49m\u001b[38;5;241;43m.\u001b[39;49m\u001b[43mdtype\u001b[49m\u001b[43m,\u001b[49m\u001b[43m \u001b[49m\u001b[43morder\u001b[49m\u001b[38;5;241;43m=\u001b[39;49m\u001b[43morder\u001b[49m\u001b[43m)\u001b[49m\n",
      "\u001b[0;31mMemoryError\u001b[0m: Unable to allocate 15.5 GiB for an array with shape (20076, 103411) and data type float64"
     ]
    }
   ],
   "source": [
    "#x_train.toarray()"
   ]
  },
  {
   "cell_type": "code",
   "execution_count": null,
   "metadata": {
    "_uuid": "9a4e6673bc64c92fbde9432fd859451e0f8a479b"
   },
   "outputs": [],
   "source": [
    "#tfidf.inverse_transform(x_train[0].toarray())"
   ]
  },
  {
   "cell_type": "code",
   "execution_count": null,
   "metadata": {
    "_uuid": "f4acf998ac64dc613cc73d2ba4179b93bb9aafa6"
   },
   "outputs": [],
   "source": [
    "#print('The corpus is huge. It contain {} words.'.format(len(x_train[0].toarray()[0])))"
   ]
  },
  {
   "cell_type": "code",
   "execution_count": null,
   "metadata": {
    "_uuid": "3d216f5b91597f9abc077c56efc157c2f9262f7e"
   },
   "outputs": [],
   "source": [
    "# building the classes\n",
    "y_train = MoviesTrain[MoviesTrain.columns[14:]]\n",
    "y_test = MoviesTest[MoviesTest.columns[14:]]"
   ]
  },
  {
   "cell_type": "code",
   "execution_count": null,
   "metadata": {
    "_uuid": "46d6cf47cf041ab068a43d33d61b537b10f71a6b"
   },
   "outputs": [],
   "source": [
    "len(y_train.columns)"
   ]
  },
  {
   "cell_type": "code",
   "execution_count": null,
   "metadata": {
    "_uuid": "6d6ae0da50e2add47dc5a0da44d75c925489de99"
   },
   "outputs": [],
   "source": [
    "len(y_test.columns)"
   ]
  },
  {
   "cell_type": "markdown",
   "metadata": {
    "_uuid": "684e92ab258f709e0f78cfee4c1cb491a3e02846"
   },
   "source": [
    "**Quick check of the multinomial Naive Bayes Classification**"
   ]
  },
  {
   "cell_type": "code",
   "execution_count": null,
   "metadata": {
    "_uuid": "8dc245bd5d6b0a1904f0db25952116cad6c7c11a"
   },
   "outputs": [],
   "source": [
    "multinomialNB=OneVsRestClassifier(MultinomialNB(fit_prior=True, class_prior=None))"
   ]
  },
  {
   "cell_type": "code",
   "execution_count": null,
   "metadata": {
    "_uuid": "23e2930c7c86fdb8995d2dd5e4b7b05be8396bc7"
   },
   "outputs": [],
   "source": [
    "# fitting\n",
    "multinomialNB.fit(x_train, y_train.action)"
   ]
  },
  {
   "cell_type": "code",
   "execution_count": null,
   "metadata": {
    "_uuid": "ce7a8e26d3f18190f96fa0cb60da2b23471de72c"
   },
   "outputs": [],
   "source": [
    "# compute the testing accuracy\n",
    "prediction = multinomialNB.predict(x_test)"
   ]
  },
  {
   "cell_type": "code",
   "execution_count": null,
   "metadata": {
    "_uuid": "5114cc0fb6a20b9ac7b00753ff99057ebb7bc295"
   },
   "outputs": [],
   "source": [
    "print('Test accuracy is {}'.format(accuracy_score(y_test.action, prediction)))"
   ]
  },
  {
   "cell_type": "code",
   "execution_count": null,
   "metadata": {
    "_uuid": "3340bcd09e66dde09d6bfff5c2f4dfacf4ccefec"
   },
   "outputs": [],
   "source": [
    "len(mainGenres)"
   ]
  },
  {
   "cell_type": "markdown",
   "metadata": {
    "_uuid": "ef40c9c46172bb903a8d361250375322b9fcd4bd"
   },
   "source": [
    "**multinomial Naive Bayes Classification for all the movie genres**"
   ]
  },
  {
   "cell_type": "code",
   "execution_count": null,
   "metadata": {
    "_uuid": "e5c27c01ef7e53c4c571e6c0076758a819522a85"
   },
   "outputs": [],
   "source": [
    "accuracy_multinomialNB=pd.DataFrame(columns=['Genre', 'accuracy_multinomialNB'])\n",
    "accuracy_multinomialNB.head()"
   ]
  },
  {
   "cell_type": "code",
   "execution_count": null,
   "metadata": {
    "_uuid": "2707c27d873ad8ea1d47d56622e76174470ae6b4"
   },
   "outputs": [],
   "source": [
    "i = 0\n",
    "for genre in mainGenres:\n",
    "    multinomialNB.fit(x_train, y_train[genre])\n",
    "    prediction = multinomialNB.predict(x_test)\n",
    "    accuracy_multinomialNB.loc[i,'Genre'] = genre\n",
    "    accuracy_multinomialNB.loc[i,'accuracy_multinomialNB'] = accuracy_score(y_test[genre], prediction)\n",
    "    i=i+1\n",
    "    \n",
    "\n",
    "    \n",
    "accuracy_multinomialNB"
   ]
  },
  {
   "cell_type": "markdown",
   "metadata": {
    "_uuid": "6b94e663455f5d0813192640a975e1b282416044"
   },
   "source": [
    "**Linear Support Vector Classification for all the movie genres**"
   ]
  },
  {
   "cell_type": "code",
   "execution_count": null,
   "metadata": {
    "_uuid": "a2f955707916b32d2e6f83d10056ab18c4a3a374"
   },
   "outputs": [],
   "source": [
    "linearSVC=OneVsRestClassifier(LinearSVC(), n_jobs=1)"
   ]
  },
  {
   "cell_type": "code",
   "execution_count": null,
   "metadata": {
    "_uuid": "a0138fcbc84bf5602c34be07c222e0b7c6d80358"
   },
   "outputs": [],
   "source": [
    "accuracy_LinearSVC=pd.DataFrame(columns=['Genre', 'accuracy_LinearSVC'])\n",
    "accuracy_LinearSVC.head()"
   ]
  },
  {
   "cell_type": "code",
   "execution_count": null,
   "metadata": {
    "_uuid": "74edf4c33e89246e887a23b62de431356d091a43"
   },
   "outputs": [],
   "source": [
    "  \n",
    "i = 0\n",
    "for genre in mainGenres:\n",
    "    linearSVC.fit(x_train, y_train[genre])\n",
    "    prediction = linearSVC.predict(x_test)\n",
    "    accuracy_LinearSVC.loc[i,'Genre'] = genre\n",
    "    accuracy_LinearSVC.loc[i,'accuracy_LinearSVC'] = accuracy_score(y_test[genre], prediction)\n",
    "    i=i+1"
   ]
  },
  {
   "cell_type": "code",
   "execution_count": null,
   "metadata": {
    "_uuid": "c5cbd59744055a843af27e963ce30adb678bf3c2"
   },
   "outputs": [],
   "source": [
    "accuracy_LinearSVC"
   ]
  },
  {
   "cell_type": "code",
   "execution_count": null,
   "metadata": {
    "_uuid": "7ac2b1d678338a54f594327742a6f52166c5388b"
   },
   "outputs": [],
   "source": [
    "# merging the accuracy tables\n",
    "accuracy_svc_mnb = pd.merge(accuracy_multinomialNB, accuracy_LinearSVC, on='Genre', how='inner')"
   ]
  },
  {
   "cell_type": "code",
   "execution_count": null,
   "metadata": {
    "_uuid": "6cd1514ee0642b8d5af2d6690d43cba02843b797"
   },
   "outputs": [],
   "source": [
    "accuracy_svc_mnb"
   ]
  },
  {
   "cell_type": "markdown",
   "metadata": {
    "_uuid": "462b9f701778126e9ee2a3290af9ca94ffebb6f5"
   },
   "source": [
    "It seems to be the 2 classification algorithms are giving almost the same result."
   ]
  },
  {
   "cell_type": "code",
   "execution_count": null,
   "metadata": {
    "_uuid": "814005a0e5948eefa95b44b896144b2ba9d52c12"
   },
   "outputs": [],
   "source": [
    "plt.figure(figsize=(18,10))\n",
    "p1 =plt.bar(accuracy_svc_mnb.Genre, height=accuracy_svc_mnb.accuracy_multinomialNB)\n",
    "p2 =plt.bar(accuracy_svc_mnb.Genre, height=accuracy_svc_mnb.accuracy_LinearSVC)\n",
    "plt.xticks( rotation=90)\n",
    "plt.title(\"Movies genre classification accuracy (multinomialNB VS LinearSVC)\")\n",
    "plt.ylabel('accuracy', fontsize=14)\n",
    "plt.xlabel('Movie genres', fontsize=14)\n",
    "plt.legend((p1[0], p2[0]), ('multinomialNB', 'LinearSVC'))\n",
    "plt.show()\n",
    "\n",
    "\n",
    "# the graph is not showing the comparison between the 2 classifiers."
   ]
  },
  {
   "cell_type": "code",
   "execution_count": null,
   "metadata": {
    "_uuid": "d500e2be035990bc52a5dd1688f56b1760d84640"
   },
   "outputs": [],
   "source": [
    "#accuracy_multinomialNB, accuracy_LinearSVC\n",
    "\n",
    "accuracy_multinomialNB1 = accuracy_multinomialNB\n",
    "accuracy_multinomialNB1.columns = ['Genre', 'accuracy']\n",
    "accuracy_multinomialNB1['classifier'] = 'multinomialNB'"
   ]
  },
  {
   "cell_type": "code",
   "execution_count": null,
   "metadata": {
    "_uuid": "74aa1fe5db554300f69dfbd33f537759206be4e2"
   },
   "outputs": [],
   "source": [
    "accuracy_multinomialNB1"
   ]
  },
  {
   "cell_type": "code",
   "execution_count": null,
   "metadata": {
    "_uuid": "b3d4da879cbc6f8e36c11d6d267797d603830b20"
   },
   "outputs": [],
   "source": [
    "#accuracy_multinomialNB, accuracy_LinearSVC\n",
    "\n",
    "accuracy_LinearSVC1 = accuracy_LinearSVC\n",
    "accuracy_LinearSVC1.columns = ['Genre', 'accuracy']\n",
    "accuracy_LinearSVC1['classifier'] = 'linearSVC'"
   ]
  },
  {
   "cell_type": "code",
   "execution_count": null,
   "metadata": {
    "_uuid": "564b7c4a2e0a81ad03640a40ff8a0127dcce7ef1"
   },
   "outputs": [],
   "source": [
    "accuracy_LinearSVC1"
   ]
  },
  {
   "cell_type": "code",
   "execution_count": null,
   "metadata": {
    "_uuid": "7b9248d8dd1492853f0df60cb3823b55fc3001d9"
   },
   "outputs": [],
   "source": [
    "accu_mnb_svc = accuracy_multinomialNB1.append(accuracy_LinearSVC1)"
   ]
  },
  {
   "cell_type": "code",
   "execution_count": null,
   "metadata": {
    "_uuid": "f8f1c4c369c572a20f59f06e2980b81b7dab6565"
   },
   "outputs": [],
   "source": [
    "accu_mnb_svc"
   ]
  },
  {
   "cell_type": "code",
   "execution_count": null,
   "metadata": {
    "_uuid": "5513f96d1467cb8a9645c6ff93be8ceae6025dd5"
   },
   "outputs": [],
   "source": [
    "sns.set(rc={'figure.figsize':(18,10)})\n",
    "sns.set(style=\"whitegrid\")\n",
    "s = sns.barplot(x=\"Genre\", y=\"accuracy\", hue=\"classifier\", data=accu_mnb_svc) #.set_title('Movies genre classification accuracy (multinomialNB VS LinearSVC)')\n",
    "s.set_title('Movies genre classification accuracy (multinomialNB VS LinearSVC)', size=16)\n",
    "s.set_xticklabels(list(mainGenres) ,rotation=45, size=15)\n"
   ]
  },
  {
   "cell_type": "markdown",
   "metadata": {
    "_uuid": "de9cc51c4624bb61eed34cace1979129eaaaee7e"
   },
   "source": [
    "## 4. Conclusion\n",
    "\n",
    "Below are the main conclusions of this kernel:\n",
    "\n",
    "* Both algorithms MultinomialNB and LinearSVC showed very good accuracy rate even though LinearSVC  did not success to converge for some genre. The lowest accuracy rate is arond 66% and the best accuracy rate above 99%.\n",
    "* Multinomial Naive Bayes Classification is much faster compared to LinearSVC. In addition, it has no convergence issues. So, I would recommend it for this case of movie genre classifications.\n",
    "\n",
    "**Limitations**\n",
    "\n",
    "Non frequent genres of movies are also well classified (around 99%). Nevertheless, the reliability of the accuracy rate needs further checkings.\n",
    "\n",
    "Example: The genre `politic` is observed in 60 movies (out of 36k movies). So how much reliable the accuracy rate for the non frequent genre?"
   ]
  }
 ],
 "metadata": {
  "kernelspec": {
   "display_name": "Python 3 (ipykernel)",
   "language": "python",
   "name": "python3"
  },
  "language_info": {
   "codemirror_mode": {
    "name": "ipython",
    "version": 3
   },
   "file_extension": ".py",
   "mimetype": "text/x-python",
   "name": "python",
   "nbconvert_exporter": "python",
   "pygments_lexer": "ipython3",
   "version": "3.8.12"
  },
  "toc": {
   "base_numbering": 1,
   "nav_menu": {},
   "number_sections": true,
   "sideBar": true,
   "skip_h1_title": false,
   "title_cell": "Table of Contents",
   "title_sidebar": "Contents",
   "toc_cell": false,
   "toc_position": {},
   "toc_section_display": true,
   "toc_window_display": false
  }
 },
 "nbformat": 4,
 "nbformat_minor": 1
}
